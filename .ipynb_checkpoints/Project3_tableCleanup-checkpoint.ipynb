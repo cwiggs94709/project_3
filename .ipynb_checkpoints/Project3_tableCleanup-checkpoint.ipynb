{
 "cells": [
  {
   "cell_type": "code",
   "execution_count": 4,
   "id": "c36fac48-779f-4d4d-9905-e2b9a7a6efd9",
   "metadata": {},
   "outputs": [],
   "source": [
    "import pandas as pd\n",
    "import os"
   ]
  },
  {
   "cell_type": "markdown",
   "id": "8a629d8c-fdda-443b-9de3-22aef229632e",
   "metadata": {},
   "source": [
    "### Clean raw csv to narrow parameters to extract total counts from each Tract in 2019"
   ]
  },
  {
   "cell_type": "code",
   "execution_count": 2,
   "id": "18798969-7703-43fc-a89e-4919792aaa4a",
   "metadata": {},
   "outputs": [
    {
     "name": "stdout",
     "output_type": "stream",
     "text": [
      "The new CSV file has been created and saved in the same directory as the original CSV file.\n"
     ]
    }
   ],
   "source": [
    "# Define the path to the original CSV file\n",
    "original_csv_path = \"Data/FoodAccessResearchAtlasData2019.csv\"\n",
    "\n",
    "# Extract the directory path of the original CSV file\n",
    "output_directory = os.path.dirname(original_csv_path)\n",
    "\n",
    "# Define the filename for the new CSV file\n",
    "output_filename = \"2019FoodAccessTotals.csv\"\n",
    "\n",
    "# Define the path for the new CSV file in the same directory as the original CSV file\n",
    "output_file_path = os.path.join(output_directory, output_filename)\n",
    "\n",
    "# Specify the columns to keep\n",
    "columns_to_keep = [\n",
    "    \"CensusTract\",\n",
    "    \"State\",\n",
    "    \"County\",\n",
    "    \"TractLOWI\",\n",
    "    \"TractKids\",\n",
    "    \"TractSeniors\",\n",
    "    \"TractWhite\",\n",
    "    \"TractBlack\",\n",
    "    \"TractAsian\",\n",
    "    \"TractNHOPI\",\n",
    "    \"TractAIAN\",\n",
    "    \"TractOMultir\",\n",
    "    \"TractHispanic\",\n",
    "    \"TractHUNV\",\n",
    "    \"TractSNAP\"\n",
    "]\n",
    "\n",
    "# Load the data from CSV file\n",
    "data = pd.read_csv(original_csv_path, usecols=columns_to_keep)\n",
    "\n",
    "# Save the filtered data to a new CSV file in the same directory as the original CSV file\n",
    "data.to_csv(output_file_path, index=False)\n",
    "\n",
    "print(\"The new CSV file has been created and saved in the same directory as the original CSV file.\")"
   ]
  },
  {
   "cell_type": "markdown",
   "id": "0aeb1fee-d894-47df-bb0c-54976916820a",
   "metadata": {},
   "source": [
    "### Clean raw csv to narrow parameters to extract total counts from each Tract in 2015"
   ]
  },
  {
   "cell_type": "code",
   "execution_count": 5,
   "id": "1f44ff03-acc1-4a6b-93f6-1a2f624bf9cd",
   "metadata": {},
   "outputs": [
    {
     "name": "stdout",
     "output_type": "stream",
     "text": [
      "The new CSV file has been created and saved in the same directory as the original CSV file.\n"
     ]
    }
   ],
   "source": [
    "# Define the path to the original CSV file\n",
    "original_csv_path = \"Data/FoodAccessResearchAtlasData2015.csv\"\n",
    "\n",
    "# Extract the directory path of the original CSV file\n",
    "output_directory = os.path.dirname(original_csv_path)\n",
    "\n",
    "# Define the filename for the new CSV file\n",
    "output_filename = \"2015FoodAccessTotals.csv\"\n",
    "\n",
    "# Define the path for the new CSV file in the same directory as the original CSV file\n",
    "output_file_path = os.path.join(output_directory, output_filename)\n",
    "\n",
    "# Specify the columns to keep\n",
    "columns_to_keep = [\n",
    "    \"CensusTract\",\n",
    "    \"State\",\n",
    "    \"County\",\n",
    "    \"TractLOWI\",\n",
    "    \"TractKids\",\n",
    "    \"TractSeniors\",\n",
    "    \"TractWhite\",\n",
    "    \"TractBlack\",\n",
    "    \"TractAsian\",\n",
    "    \"TractNHOPI\",\n",
    "    \"TractAIAN\",\n",
    "    \"TractOMultir\",\n",
    "    \"TractHispanic\",\n",
    "    \"TractHUNV\",\n",
    "    \"TractSNAP\"\n",
    "]\n",
    "\n",
    "# Load the data from CSV file\n",
    "data = pd.read_csv(original_csv_path, usecols=columns_to_keep)\n",
    "\n",
    "# Save the filtered data to a new CSV file in the same directory as the original CSV file\n",
    "data.to_csv(output_file_path, index=False)\n",
    "\n",
    "print(\"The new CSV file has been created and saved in the same directory as the original CSV file.\")"
   ]
  },
  {
   "cell_type": "markdown",
   "id": "75184fa1-75ab-4b0b-8880-e8c5a211e7b2",
   "metadata": {},
   "source": [
    "### Clean raw csv to narrow parameters to extract income counts from each Tract in 2015"
   ]
  },
  {
   "cell_type": "code",
   "execution_count": 8,
   "id": "7d5e21ee-9fdc-4f0e-a89e-42262222d6c1",
   "metadata": {},
   "outputs": [
    {
     "name": "stdout",
     "output_type": "stream",
     "text": [
      "The new CSV file has been created and saved in the same directory as the original CSV file.\n"
     ]
    }
   ],
   "source": [
    "#Define the path to the original CSV file\n",
    "original_csv_path = \"Data/FoodAccessResearchAtlasData2015.csv\"\n",
    "\n",
    "# Extract the directory path of the original CSV file\n",
    "output_directory = os.path.dirname(original_csv_path)\n",
    "\n",
    "# Define the filename for the new CSV file\n",
    "output_filename = \"2015FoodAccessIncome.csv\"\n",
    "\n",
    "# Define the path for the new CSV file in the same directory as the original CSV file\n",
    "output_file_path = os.path.join(output_directory, output_filename)\n",
    "\n",
    "# Specify the columns to keep\n",
    "columns_to_keep = [\n",
    "    \"CensusTract\",\n",
    "    \"State\",\n",
    "    \"County\",\n",
    "    \"lasnaphalf\",\n",
    "    \"lasnaphalfshare\",\n",
    "    \"lapop1\",\n",
    "    \"lapop1share\",\n",
    "    \"lalowi1\",\n",
    "    \"lalowi1share\",\n",
    "    \"lasnap1\",\n",
    "    \"lasnap1share\",\n",
    "    \"lapop10\",\n",
    "    \"lapop10share\",\n",
    "    \"lalowi10\",\n",
    "    \"lalowi10share\",\n",
    "    \"lasnap10\",\n",
    "    \"lasnap10share\",\n",
    "    \"lasnap20\",\n",
    "    \"lasnap20share\"\n",
    "]\n",
    "\n",
    "# Load the data from CSV file\n",
    "data = pd.read_csv(original_csv_path, usecols=columns_to_keep)\n",
    "\n",
    "# Save the filtered data to a new CSV file in the same directory as the original CSV file\n",
    "data.to_csv(output_file_path, index=False)\n",
    "\n",
    "print(\"The new CSV file has been created and saved in the same directory as the original CSV file.\")"
   ]
  },
  {
   "cell_type": "markdown",
   "id": "241e6be2-8f92-45f2-80e2-cfeda9756b2d",
   "metadata": {},
   "source": [
    "### Clean raw csv to narrow parameters to extract income counts from each Tract in 2019"
   ]
  },
  {
   "cell_type": "code",
   "execution_count": 9,
   "id": "4227ee8e-7c14-45b5-9cb1-d6701b350f07",
   "metadata": {
    "scrolled": true
   },
   "outputs": [
    {
     "name": "stdout",
     "output_type": "stream",
     "text": [
      "The new CSV file has been created and saved in the same directory as the original CSV file.\n"
     ]
    }
   ],
   "source": [
    "#Define the path to the original CSV file\n",
    "original_csv_path = \"Data/FoodAccessResearchAtlasData2019.csv\"\n",
    "\n",
    "# Extract the directory path of the original CSV file\n",
    "output_directory = os.path.dirname(original_csv_path)\n",
    "\n",
    "# Define the filename for the new CSV file\n",
    "output_filename = \"2019FoodAccessIncome.csv\"\n",
    "\n",
    "# Define the path for the new CSV file in the same directory as the original CSV file\n",
    "output_file_path = os.path.join(output_directory, output_filename)\n",
    "\n",
    "# Specify the columns to keep\n",
    "columns_to_keep = [\n",
    "    \"CensusTract\",\n",
    "    \"State\",\n",
    "    \"County\",\n",
    "    \"lasnaphalf\",\n",
    "    \"lasnaphalfshare\",\n",
    "    \"lapop1\",\n",
    "    \"lapop1share\",\n",
    "    \"lalowi1\",\n",
    "    \"lalowi1share\",\n",
    "    \"lasnap1\",\n",
    "    \"lasnap1share\",\n",
    "    \"lapop10\",\n",
    "    \"lapop10share\",\n",
    "    \"lalowi10\",\n",
    "    \"lalowi10share\",\n",
    "    \"lasnap10\",\n",
    "    \"lasnap10share\",\n",
    "    \"lasnap20\",\n",
    "    \"lasnap20share\"\n",
    "]\n",
    "\n",
    "# Load the data from CSV file\n",
    "data = pd.read_csv(original_csv_path, usecols=columns_to_keep)\n",
    "\n",
    "# Save the filtered data to a new CSV file in the same directory as the original CSV file\n",
    "data.to_csv(output_file_path, index=False)\n",
    "\n",
    "print(\"The new CSV file has been created and saved in the same directory as the original CSV file.\")"
   ]
  },
  {
   "cell_type": "markdown",
   "id": "a141e115-233b-4bc0-b866-8452c1299d20",
   "metadata": {},
   "source": [
    "### Clean raw csv to narrow parameters to extract locale counts from each Tract in 2015"
   ]
  },
  {
   "cell_type": "code",
   "execution_count": 12,
   "id": "7a2d4194-8ba6-4a82-bafc-4f2af545c7c6",
   "metadata": {},
   "outputs": [
    {
     "name": "stdout",
     "output_type": "stream",
     "text": [
      "The new CSV file has been created and saved in the same directory as the original CSV file.\n"
     ]
    }
   ],
   "source": [
    "#Define the path to the original CSV file\n",
    "original_csv_path = \"Data/FoodAccessResearchAtlasData2015.csv\"\n",
    "\n",
    "# Extract the directory path of the original CSV file\n",
    "output_directory = os.path.dirname(original_csv_path)\n",
    "\n",
    "# Define the filename for the new CSV file\n",
    "output_filename = \"2015FoodAccessLocale.csv\"\n",
    "\n",
    "# Define the path for the new CSV file in the same directory as the original CSV file\n",
    "output_file_path = os.path.join(output_directory, output_filename)\n",
    "\n",
    "# Specify the columns to keep\n",
    "columns_to_keep = [\n",
    "    \"CensusTract\",\n",
    "    \"State\",\n",
    "    \"County\",\n",
    "    \"LAPOP05_10\",\n",
    "    \"LAPOP1_20\" ,\n",
    "    \"LALOWI1_10\",\n",
    "    \"LALOWI05_10\",\n",
    "    \"LALOWI1_20\",\n",
    "    \"lapophalf\",\n",
    "    \"lapophalfshare\",\n",
    "    \"lalowihalf\",\n",
    "    \"lalowihalfshare\",\n",
    "    \"lakidshalf\",\n",
    "    \"lakidshalfshare\",\n",
    "    \"laseniorshalf\",\n",
    "    \"laseniorshalfshare\",\n",
    "    \"lahunvhalf\",\n",
    "    \"lahunvhalfshare\",\n",
    "    \"lakids1\",\n",
    "    \"lakids1share\",\n",
    "    \"laseniors1\",\n",
    "    \"laseniors1share\",\n",
    "    \"lahunv1\",\n",
    "    \"lahunv1share\",\n",
    "    \"lakids10\",\n",
    "    \"lakids10share\",\n",
    "    \"laseniors10\",\n",
    "    \"laseniors10share\",\n",
    "    \"lahunv10\",\n",
    "    \"lahunv10share\",\n",
    "    \"lapop20\",\n",
    "    \"lapop20share\",\n",
    "    \"lalowi20\",\n",
    "    \"lalowi20share\",\n",
    "    \"lakids20\",\n",
    "    \"lakids20share\",\n",
    "    \"laseniors20\",\n",
    "    \"laseniors20share\",\n",
    "    \"lahunv20\",\n",
    "    \"lahunv20share\"  \n",
    "]\n",
    "\n",
    "# Load the data from CSV file\n",
    "data = pd.read_csv(original_csv_path, usecols=columns_to_keep)\n",
    "\n",
    "# Save the filtered data to a new CSV file in the same directory as the original CSV file\n",
    "data.to_csv(output_file_path, index=False)\n",
    "\n",
    "print(\"The new CSV file has been created and saved in the same directory as the original CSV file.\")"
   ]
  },
  {
   "cell_type": "code",
   "execution_count": null,
   "id": "5d59f50c-ca9b-419d-9092-eb09fb0e701e",
   "metadata": {},
   "outputs": [],
   "source": []
  }
 ],
 "metadata": {
  "kernelspec": {
   "display_name": "Python 3 (ipykernel)",
   "language": "python",
   "name": "python3"
  },
  "language_info": {
   "codemirror_mode": {
    "name": "ipython",
    "version": 3
   },
   "file_extension": ".py",
   "mimetype": "text/x-python",
   "name": "python",
   "nbconvert_exporter": "python",
   "pygments_lexer": "ipython3",
   "version": "3.11.5"
  }
 },
 "nbformat": 4,
 "nbformat_minor": 5
}
