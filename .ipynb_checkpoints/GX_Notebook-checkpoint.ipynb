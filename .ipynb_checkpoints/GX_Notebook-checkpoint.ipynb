{
 "cells": [
  {
   "cell_type": "markdown",
   "id": "89e0e9f8",
   "metadata": {},
   "source": [
    "## Using the Great Expectation [Quickstart](https://docs.greatexpectations.io/docs/oss/tutorials/quickstart/) guide to get started"
   ]
  },
  {
   "cell_type": "code",
   "execution_count": 1,
   "id": "77727ad2",
   "metadata": {},
   "outputs": [],
   "source": [
    "# Importing dependencies (Great Expectations must be installed prior to running this notebook)\n",
    "import great_expectations as gx\n",
    "import pandas as pd"
   ]
  },
  {
   "cell_type": "code",
   "execution_count": 2,
   "id": "8fe8c65f",
   "metadata": {},
   "outputs": [],
   "source": [
    "# Creating a Data Context\n",
    "context = gx.get_context()"
   ]
  },
  {
   "cell_type": "code",
   "execution_count": 3,
   "id": "5c1b221a",
   "metadata": {},
   "outputs": [],
   "source": [
    "# Creating a Data Source\n",
    "datasource = context.sources.add_pandas(name=\"my_pandas_datasource\")"
   ]
  },
  {
   "cell_type": "code",
   "execution_count": 4,
   "id": "02056152",
   "metadata": {},
   "outputs": [],
   "source": [
    "# Connecting to in-memory data by reading data into a Pandas DataFrame\n",
    "dataframe = pd.read_csv(\"Data/FoodAccessResearchAtlasData2019.csv\")"
   ]
  },
  {
   "cell_type": "code",
   "execution_count": 5,
   "id": "284784d5",
   "metadata": {},
   "outputs": [],
   "source": [
    "# Adding a Data Asset to the Data Source\n",
    "name = \"food_access_dataframe\"\n",
    "data_asset = datasource.add_dataframe_asset(name=name)\n",
    "my_batch_request = data_asset.build_batch_request(dataframe=dataframe)"
   ]
  },
  {
   "cell_type": "code",
   "execution_count": 6,
   "id": "d697dab9",
   "metadata": {},
   "outputs": [
    {
     "data": {
      "text/plain": [
       "{\n",
       "  \"expectation_suite_name\": \"my_expectation_suite\",\n",
       "  \"ge_cloud_id\": null,\n",
       "  \"expectations\": [],\n",
       "  \"data_asset_type\": null,\n",
       "  \"meta\": {\n",
       "    \"great_expectations_version\": \"0.18.12\"\n",
       "  }\n",
       "}"
      ]
     },
     "execution_count": 6,
     "metadata": {},
     "output_type": "execute_result"
    }
   ],
   "source": [
    "# Creating a Validator\n",
    "context.add_or_update_expectation_suite(\"my_expectation_suite\")"
   ]
  },
  {
   "cell_type": "code",
   "execution_count": 7,
   "id": "93bb0c2d",
   "metadata": {},
   "outputs": [
    {
     "data": {
      "application/vnd.jupyter.widget-view+json": {
       "model_id": "42aa85e05a5e49baa6767e67d0b877cb",
       "version_major": 2,
       "version_minor": 0
      },
      "text/plain": [
       "Calculating Metrics:   0%|          | 0/1 [00:00<?, ?it/s]"
      ]
     },
     "metadata": {},
     "output_type": "display_data"
    },
    {
     "data": {
      "text/html": [
       "<div>\n",
       "<style scoped>\n",
       "    .dataframe tbody tr th:only-of-type {\n",
       "        vertical-align: middle;\n",
       "    }\n",
       "\n",
       "    .dataframe tbody tr th {\n",
       "        vertical-align: top;\n",
       "    }\n",
       "\n",
       "    .dataframe thead th {\n",
       "        text-align: right;\n",
       "    }\n",
       "</style>\n",
       "<table border=\"1\" class=\"dataframe\">\n",
       "  <thead>\n",
       "    <tr style=\"text-align: right;\">\n",
       "      <th></th>\n",
       "      <th>CensusTract</th>\n",
       "      <th>State</th>\n",
       "      <th>County</th>\n",
       "      <th>Urban</th>\n",
       "      <th>Pop2010</th>\n",
       "      <th>OHU2010</th>\n",
       "      <th>GroupQuartersFlag</th>\n",
       "      <th>NUMGQTRS</th>\n",
       "      <th>PCTGQTRS</th>\n",
       "      <th>LILATracts_1And10</th>\n",
       "      <th>...</th>\n",
       "      <th>TractSeniors</th>\n",
       "      <th>TractWhite</th>\n",
       "      <th>TractBlack</th>\n",
       "      <th>TractAsian</th>\n",
       "      <th>TractNHOPI</th>\n",
       "      <th>TractAIAN</th>\n",
       "      <th>TractOMultir</th>\n",
       "      <th>TractHispanic</th>\n",
       "      <th>TractHUNV</th>\n",
       "      <th>TractSNAP</th>\n",
       "    </tr>\n",
       "  </thead>\n",
       "  <tbody>\n",
       "    <tr>\n",
       "      <th>0</th>\n",
       "      <td>1001020100</td>\n",
       "      <td>Alabama</td>\n",
       "      <td>Autauga County</td>\n",
       "      <td>1</td>\n",
       "      <td>1912</td>\n",
       "      <td>693</td>\n",
       "      <td>0</td>\n",
       "      <td>0.0</td>\n",
       "      <td>0.00</td>\n",
       "      <td>0</td>\n",
       "      <td>...</td>\n",
       "      <td>221.0</td>\n",
       "      <td>1622.0</td>\n",
       "      <td>217.0</td>\n",
       "      <td>14.0</td>\n",
       "      <td>0.0</td>\n",
       "      <td>14.0</td>\n",
       "      <td>45.0</td>\n",
       "      <td>44.0</td>\n",
       "      <td>6.0</td>\n",
       "      <td>102.0</td>\n",
       "    </tr>\n",
       "    <tr>\n",
       "      <th>1</th>\n",
       "      <td>1001020200</td>\n",
       "      <td>Alabama</td>\n",
       "      <td>Autauga County</td>\n",
       "      <td>1</td>\n",
       "      <td>2170</td>\n",
       "      <td>743</td>\n",
       "      <td>0</td>\n",
       "      <td>181.0</td>\n",
       "      <td>8.34</td>\n",
       "      <td>1</td>\n",
       "      <td>...</td>\n",
       "      <td>214.0</td>\n",
       "      <td>888.0</td>\n",
       "      <td>1217.0</td>\n",
       "      <td>5.0</td>\n",
       "      <td>0.0</td>\n",
       "      <td>5.0</td>\n",
       "      <td>55.0</td>\n",
       "      <td>75.0</td>\n",
       "      <td>89.0</td>\n",
       "      <td>156.0</td>\n",
       "    </tr>\n",
       "    <tr>\n",
       "      <th>2</th>\n",
       "      <td>1001020300</td>\n",
       "      <td>Alabama</td>\n",
       "      <td>Autauga County</td>\n",
       "      <td>1</td>\n",
       "      <td>3373</td>\n",
       "      <td>1256</td>\n",
       "      <td>0</td>\n",
       "      <td>0.0</td>\n",
       "      <td>0.00</td>\n",
       "      <td>0</td>\n",
       "      <td>...</td>\n",
       "      <td>439.0</td>\n",
       "      <td>2576.0</td>\n",
       "      <td>647.0</td>\n",
       "      <td>17.0</td>\n",
       "      <td>5.0</td>\n",
       "      <td>11.0</td>\n",
       "      <td>117.0</td>\n",
       "      <td>87.0</td>\n",
       "      <td>99.0</td>\n",
       "      <td>172.0</td>\n",
       "    </tr>\n",
       "    <tr>\n",
       "      <th>3</th>\n",
       "      <td>1001020400</td>\n",
       "      <td>Alabama</td>\n",
       "      <td>Autauga County</td>\n",
       "      <td>1</td>\n",
       "      <td>4386</td>\n",
       "      <td>1722</td>\n",
       "      <td>0</td>\n",
       "      <td>0.0</td>\n",
       "      <td>0.00</td>\n",
       "      <td>0</td>\n",
       "      <td>...</td>\n",
       "      <td>904.0</td>\n",
       "      <td>4086.0</td>\n",
       "      <td>193.0</td>\n",
       "      <td>18.0</td>\n",
       "      <td>4.0</td>\n",
       "      <td>11.0</td>\n",
       "      <td>74.0</td>\n",
       "      <td>85.0</td>\n",
       "      <td>21.0</td>\n",
       "      <td>98.0</td>\n",
       "    </tr>\n",
       "    <tr>\n",
       "      <th>4</th>\n",
       "      <td>1001020500</td>\n",
       "      <td>Alabama</td>\n",
       "      <td>Autauga County</td>\n",
       "      <td>1</td>\n",
       "      <td>10766</td>\n",
       "      <td>4082</td>\n",
       "      <td>0</td>\n",
       "      <td>181.0</td>\n",
       "      <td>1.68</td>\n",
       "      <td>0</td>\n",
       "      <td>...</td>\n",
       "      <td>1126.0</td>\n",
       "      <td>8666.0</td>\n",
       "      <td>1437.0</td>\n",
       "      <td>296.0</td>\n",
       "      <td>9.0</td>\n",
       "      <td>48.0</td>\n",
       "      <td>310.0</td>\n",
       "      <td>355.0</td>\n",
       "      <td>230.0</td>\n",
       "      <td>339.0</td>\n",
       "    </tr>\n",
       "  </tbody>\n",
       "</table>\n",
       "<p>5 rows × 147 columns</p>\n",
       "</div>"
      ],
      "text/plain": [
       "   CensusTract    State          County  Urban  Pop2010  OHU2010  \\\n",
       "0   1001020100  Alabama  Autauga County      1     1912      693   \n",
       "1   1001020200  Alabama  Autauga County      1     2170      743   \n",
       "2   1001020300  Alabama  Autauga County      1     3373     1256   \n",
       "3   1001020400  Alabama  Autauga County      1     4386     1722   \n",
       "4   1001020500  Alabama  Autauga County      1    10766     4082   \n",
       "\n",
       "   GroupQuartersFlag  NUMGQTRS  PCTGQTRS  LILATracts_1And10  ...  \\\n",
       "0                  0       0.0      0.00                  0  ...   \n",
       "1                  0     181.0      8.34                  1  ...   \n",
       "2                  0       0.0      0.00                  0  ...   \n",
       "3                  0       0.0      0.00                  0  ...   \n",
       "4                  0     181.0      1.68                  0  ...   \n",
       "\n",
       "   TractSeniors  TractWhite  TractBlack  TractAsian  TractNHOPI  TractAIAN  \\\n",
       "0         221.0      1622.0       217.0        14.0         0.0       14.0   \n",
       "1         214.0       888.0      1217.0         5.0         0.0        5.0   \n",
       "2         439.0      2576.0       647.0        17.0         5.0       11.0   \n",
       "3         904.0      4086.0       193.0        18.0         4.0       11.0   \n",
       "4        1126.0      8666.0      1437.0       296.0         9.0       48.0   \n",
       "\n",
       "   TractOMultir  TractHispanic  TractHUNV  TractSNAP  \n",
       "0          45.0           44.0        6.0      102.0  \n",
       "1          55.0           75.0       89.0      156.0  \n",
       "2         117.0           87.0       99.0      172.0  \n",
       "3          74.0           85.0       21.0       98.0  \n",
       "4         310.0          355.0      230.0      339.0  \n",
       "\n",
       "[5 rows x 147 columns]"
      ]
     },
     "execution_count": 7,
     "metadata": {},
     "output_type": "execute_result"
    }
   ],
   "source": [
    "validator = context.get_validator(\n",
    "    batch_request=my_batch_request,\n",
    "    expectation_suite_name=\"my_expectation_suite\",\n",
    ")\n",
    "validator.head()"
   ]
  },
  {
   "cell_type": "markdown",
   "id": "e8185fd5",
   "metadata": {},
   "source": [
    "## Using the [Missingness Data Assistant](https://docs.greatexpectations.io/docs/oss/guides/expectations/data_assistants/how_to_create_an_expectation_suite_with_the_missingness_data_assistant) to create an Expectation Suite"
   ]
  },
  {
   "cell_type": "code",
   "execution_count": 8,
   "id": "b91f1593",
   "metadata": {},
   "outputs": [
    {
     "name": "stdout",
     "output_type": "stream",
     "text": [
      "\n"
     ]
    },
    {
     "data": {
      "application/vnd.jupyter.widget-view+json": {
       "model_id": "3ea764bb82e941aaa6b40b7d1bb8ba89",
       "version_major": 2,
       "version_minor": 0
      },
      "text/plain": [
       "Generating Expectations:   0%|          | 0/1 [00:00<?, ?it/s]"
      ]
     },
     "metadata": {},
     "output_type": "display_data"
    },
    {
     "data": {
      "application/vnd.jupyter.widget-view+json": {
       "model_id": "58ed63aef4744d60b89e16deb50a34b1",
       "version_major": 2,
       "version_minor": 0
      },
      "text/plain": [
       "Calculating Metrics:   0%|          | 0/2 [00:00<?, ?it/s]"
      ]
     },
     "metadata": {},
     "output_type": "display_data"
    },
    {
     "data": {
      "application/vnd.jupyter.widget-view+json": {
       "model_id": "259e07ddf419488da26c47b27e121f94",
       "version_major": 2,
       "version_minor": 0
      },
      "text/plain": [
       "Calculating Metrics:   0%|          | 0/1 [00:00<?, ?it/s]"
      ]
     },
     "metadata": {},
     "output_type": "display_data"
    },
    {
     "data": {
      "application/vnd.jupyter.widget-view+json": {
       "model_id": "",
       "version_major": 2,
       "version_minor": 0
      },
      "text/plain": [
       "Profiling Dataset:         0%|          | 0/147 [00:00<?, ?it/s]"
      ]
     },
     "metadata": {},
     "output_type": "display_data"
    },
    {
     "data": {
      "application/vnd.jupyter.widget-view+json": {
       "model_id": "a57dadbb462c488f8b79f66fc5e2a9ca",
       "version_major": 2,
       "version_minor": 0
      },
      "text/plain": [
       "Calculating Metrics:   0%|          | 0/5 [00:00<?, ?it/s]"
      ]
     },
     "metadata": {},
     "output_type": "display_data"
    },
    {
     "data": {
      "application/vnd.jupyter.widget-view+json": {
       "model_id": "a1b2235740af4172913c9a7a51d7de9a",
       "version_major": 2,
       "version_minor": 0
      },
      "text/plain": [
       "Calculating Metrics:   0%|          | 0/1 [00:00<?, ?it/s]"
      ]
     },
     "metadata": {},
     "output_type": "display_data"
    },
    {
     "data": {
      "application/vnd.jupyter.widget-view+json": {
       "model_id": "16055470c7d84f4daa11844c58ea890a",
       "version_major": 2,
       "version_minor": 0
      },
      "text/plain": [
       "Calculating Metrics:   0%|          | 0/5 [00:00<?, ?it/s]"
      ]
     },
     "metadata": {},
     "output_type": "display_data"
    },
    {
     "data": {
      "application/vnd.jupyter.widget-view+json": {
       "model_id": "5672e9683d584b1db7f08d6052a3c009",
       "version_major": 2,
       "version_minor": 0
      },
      "text/plain": [
       "Calculating Metrics:   0%|          | 0/5 [00:00<?, ?it/s]"
      ]
     },
     "metadata": {},
     "output_type": "display_data"
    },
    {
     "data": {
      "application/vnd.jupyter.widget-view+json": {
       "model_id": "81205ad11c8d47eeabf12954f97f19d3",
       "version_major": 2,
       "version_minor": 0
      },
      "text/plain": [
       "Calculating Metrics:   0%|          | 0/1 [00:00<?, ?it/s]"
      ]
     },
     "metadata": {},
     "output_type": "display_data"
    },
    {
     "data": {
      "application/vnd.jupyter.widget-view+json": {
       "model_id": "a16015c76a11482eb434af4ff60e96e5",
       "version_major": 2,
       "version_minor": 0
      },
      "text/plain": [
       "Calculating Metrics:   0%|          | 0/5 [00:00<?, ?it/s]"
      ]
     },
     "metadata": {},
     "output_type": "display_data"
    },
    {
     "data": {
      "application/vnd.jupyter.widget-view+json": {
       "model_id": "e37a400dd64c48e1af0f38091efcdd8b",
       "version_major": 2,
       "version_minor": 0
      },
      "text/plain": [
       "Calculating Metrics:   0%|          | 0/5 [00:00<?, ?it/s]"
      ]
     },
     "metadata": {},
     "output_type": "display_data"
    },
    {
     "data": {
      "application/vnd.jupyter.widget-view+json": {
       "model_id": "572da65d2f0c4618bc3fd341392815ac",
       "version_major": 2,
       "version_minor": 0
      },
      "text/plain": [
       "Calculating Metrics:   0%|          | 0/1 [00:00<?, ?it/s]"
      ]
     },
     "metadata": {},
     "output_type": "display_data"
    },
    {
     "data": {
      "application/vnd.jupyter.widget-view+json": {
       "model_id": "ffc979bee9f04c07a0e6b31192af623b",
       "version_major": 2,
       "version_minor": 0
      },
      "text/plain": [
       "Calculating Metrics:   0%|          | 0/5 [00:00<?, ?it/s]"
      ]
     },
     "metadata": {},
     "output_type": "display_data"
    },
    {
     "data": {
      "application/vnd.jupyter.widget-view+json": {
       "model_id": "9b228d4c13a9422784f31f91d0af7daf",
       "version_major": 2,
       "version_minor": 0
      },
      "text/plain": [
       "Calculating Metrics:   0%|          | 0/5 [00:00<?, ?it/s]"
      ]
     },
     "metadata": {},
     "output_type": "display_data"
    },
    {
     "data": {
      "application/vnd.jupyter.widget-view+json": {
       "model_id": "a190145bf2e34d77942441ed50b89beb",
       "version_major": 2,
       "version_minor": 0
      },
      "text/plain": [
       "Calculating Metrics:   0%|          | 0/1 [00:00<?, ?it/s]"
      ]
     },
     "metadata": {},
     "output_type": "display_data"
    },
    {
     "data": {
      "application/vnd.jupyter.widget-view+json": {
       "model_id": "c829d144249140ef867307ea6e866bd8",
       "version_major": 2,
       "version_minor": 0
      },
      "text/plain": [
       "Calculating Metrics:   0%|          | 0/5 [00:00<?, ?it/s]"
      ]
     },
     "metadata": {},
     "output_type": "display_data"
    },
    {
     "data": {
      "application/vnd.jupyter.widget-view+json": {
       "model_id": "d9c366dcee984c86a49a9630b8ddb86e",
       "version_major": 2,
       "version_minor": 0
      },
      "text/plain": [
       "Calculating Metrics:   0%|          | 0/5 [00:00<?, ?it/s]"
      ]
     },
     "metadata": {},
     "output_type": "display_data"
    },
    {
     "data": {
      "application/vnd.jupyter.widget-view+json": {
       "model_id": "b5e3d7662cb44f359e3c05acb544d6fa",
       "version_major": 2,
       "version_minor": 0
      },
      "text/plain": [
       "Calculating Metrics:   0%|          | 0/1 [00:00<?, ?it/s]"
      ]
     },
     "metadata": {},
     "output_type": "display_data"
    },
    {
     "data": {
      "application/vnd.jupyter.widget-view+json": {
       "model_id": "35ab4502eed642bd9d276fecb45327da",
       "version_major": 2,
       "version_minor": 0
      },
      "text/plain": [
       "Calculating Metrics:   0%|          | 0/5 [00:00<?, ?it/s]"
      ]
     },
     "metadata": {},
     "output_type": "display_data"
    },
    {
     "data": {
      "application/vnd.jupyter.widget-view+json": {
       "model_id": "ab78f067b1314ac08f682d4e58b624f6",
       "version_major": 2,
       "version_minor": 0
      },
      "text/plain": [
       "Calculating Metrics:   0%|          | 0/5 [00:00<?, ?it/s]"
      ]
     },
     "metadata": {},
     "output_type": "display_data"
    },
    {
     "data": {
      "application/vnd.jupyter.widget-view+json": {
       "model_id": "af5c63ca4994473fb5e03a61af65c40e",
       "version_major": 2,
       "version_minor": 0
      },
      "text/plain": [
       "Calculating Metrics:   0%|          | 0/1 [00:00<?, ?it/s]"
      ]
     },
     "metadata": {},
     "output_type": "display_data"
    },
    {
     "data": {
      "application/vnd.jupyter.widget-view+json": {
       "model_id": "1c9db593a9ac45d8be55aa6a01112a9b",
       "version_major": 2,
       "version_minor": 0
      },
      "text/plain": [
       "Calculating Metrics:   0%|          | 0/5 [00:00<?, ?it/s]"
      ]
     },
     "metadata": {},
     "output_type": "display_data"
    },
    {
     "data": {
      "application/vnd.jupyter.widget-view+json": {
       "model_id": "1028ca3f2adf4a8490257d5b506c4e61",
       "version_major": 2,
       "version_minor": 0
      },
      "text/plain": [
       "Calculating Metrics:   0%|          | 0/5 [00:00<?, ?it/s]"
      ]
     },
     "metadata": {},
     "output_type": "display_data"
    },
    {
     "data": {
      "application/vnd.jupyter.widget-view+json": {
       "model_id": "aecc4c5954684f7eb73b20812139369f",
       "version_major": 2,
       "version_minor": 0
      },
      "text/plain": [
       "Calculating Metrics:   0%|          | 0/1 [00:00<?, ?it/s]"
      ]
     },
     "metadata": {},
     "output_type": "display_data"
    },
    {
     "data": {
      "application/vnd.jupyter.widget-view+json": {
       "model_id": "7ce8b6a711de49bba27d8e4d26c1bd06",
       "version_major": 2,
       "version_minor": 0
      },
      "text/plain": [
       "Calculating Metrics:   0%|          | 0/5 [00:00<?, ?it/s]"
      ]
     },
     "metadata": {},
     "output_type": "display_data"
    },
    {
     "data": {
      "application/vnd.jupyter.widget-view+json": {
       "model_id": "8f1f4adca7c04eaa90d324ab18937f0f",
       "version_major": 2,
       "version_minor": 0
      },
      "text/plain": [
       "Calculating Metrics:   0%|          | 0/5 [00:00<?, ?it/s]"
      ]
     },
     "metadata": {},
     "output_type": "display_data"
    },
    {
     "data": {
      "application/vnd.jupyter.widget-view+json": {
       "model_id": "a43d4e92a8db4e7494524c478c896d04",
       "version_major": 2,
       "version_minor": 0
      },
      "text/plain": [
       "Calculating Metrics:   0%|          | 0/1 [00:00<?, ?it/s]"
      ]
     },
     "metadata": {},
     "output_type": "display_data"
    },
    {
     "data": {
      "application/vnd.jupyter.widget-view+json": {
       "model_id": "b6a1535442b54a848fa487d4a78beb2b",
       "version_major": 2,
       "version_minor": 0
      },
      "text/plain": [
       "Calculating Metrics:   0%|          | 0/5 [00:00<?, ?it/s]"
      ]
     },
     "metadata": {},
     "output_type": "display_data"
    },
    {
     "data": {
      "application/vnd.jupyter.widget-view+json": {
       "model_id": "de5fac62fd094bce86013feb19c52e54",
       "version_major": 2,
       "version_minor": 0
      },
      "text/plain": [
       "Calculating Metrics:   0%|          | 0/5 [00:00<?, ?it/s]"
      ]
     },
     "metadata": {},
     "output_type": "display_data"
    },
    {
     "data": {
      "application/vnd.jupyter.widget-view+json": {
       "model_id": "66fa9369540e4e6b80d8b05618eeb5dc",
       "version_major": 2,
       "version_minor": 0
      },
      "text/plain": [
       "Calculating Metrics:   0%|          | 0/1 [00:00<?, ?it/s]"
      ]
     },
     "metadata": {},
     "output_type": "display_data"
    },
    {
     "data": {
      "application/vnd.jupyter.widget-view+json": {
       "model_id": "43089b4af7fc407db2148656ab6f68c0",
       "version_major": 2,
       "version_minor": 0
      },
      "text/plain": [
       "Calculating Metrics:   0%|          | 0/5 [00:00<?, ?it/s]"
      ]
     },
     "metadata": {},
     "output_type": "display_data"
    },
    {
     "data": {
      "application/vnd.jupyter.widget-view+json": {
       "model_id": "d4b2a9328a1245448c05e3795bd618a2",
       "version_major": 2,
       "version_minor": 0
      },
      "text/plain": [
       "Calculating Metrics:   0%|          | 0/5 [00:00<?, ?it/s]"
      ]
     },
     "metadata": {},
     "output_type": "display_data"
    },
    {
     "data": {
      "application/vnd.jupyter.widget-view+json": {
       "model_id": "a9e166754f6040bbbd628e236870e1c9",
       "version_major": 2,
       "version_minor": 0
      },
      "text/plain": [
       "Calculating Metrics:   0%|          | 0/1 [00:00<?, ?it/s]"
      ]
     },
     "metadata": {},
     "output_type": "display_data"
    },
    {
     "data": {
      "application/vnd.jupyter.widget-view+json": {
       "model_id": "a71ef183cbc944929800505584623cea",
       "version_major": 2,
       "version_minor": 0
      },
      "text/plain": [
       "Calculating Metrics:   0%|          | 0/5 [00:00<?, ?it/s]"
      ]
     },
     "metadata": {},
     "output_type": "display_data"
    },
    {
     "data": {
      "application/vnd.jupyter.widget-view+json": {
       "model_id": "72bb0dc5f2a3456bb60b30a5721013c4",
       "version_major": 2,
       "version_minor": 0
      },
      "text/plain": [
       "Calculating Metrics:   0%|          | 0/5 [00:00<?, ?it/s]"
      ]
     },
     "metadata": {},
     "output_type": "display_data"
    },
    {
     "data": {
      "application/vnd.jupyter.widget-view+json": {
       "model_id": "8aa95c0d9d8c48ed8f9678a57d338433",
       "version_major": 2,
       "version_minor": 0
      },
      "text/plain": [
       "Calculating Metrics:   0%|          | 0/1 [00:00<?, ?it/s]"
      ]
     },
     "metadata": {},
     "output_type": "display_data"
    },
    {
     "data": {
      "application/vnd.jupyter.widget-view+json": {
       "model_id": "e612a48300614c1192dfc04a630918c2",
       "version_major": 2,
       "version_minor": 0
      },
      "text/plain": [
       "Calculating Metrics:   0%|          | 0/5 [00:00<?, ?it/s]"
      ]
     },
     "metadata": {},
     "output_type": "display_data"
    },
    {
     "data": {
      "application/vnd.jupyter.widget-view+json": {
       "model_id": "f22c5c4255f0420eaeaa9ebf02fd1f92",
       "version_major": 2,
       "version_minor": 0
      },
      "text/plain": [
       "Calculating Metrics:   0%|          | 0/5 [00:00<?, ?it/s]"
      ]
     },
     "metadata": {},
     "output_type": "display_data"
    },
    {
     "data": {
      "application/vnd.jupyter.widget-view+json": {
       "model_id": "8856f2ce50074b199b655f89777538a7",
       "version_major": 2,
       "version_minor": 0
      },
      "text/plain": [
       "Calculating Metrics:   0%|          | 0/1 [00:00<?, ?it/s]"
      ]
     },
     "metadata": {},
     "output_type": "display_data"
    },
    {
     "data": {
      "application/vnd.jupyter.widget-view+json": {
       "model_id": "ee6fcdcddff04737a130e2cf307ce7b9",
       "version_major": 2,
       "version_minor": 0
      },
      "text/plain": [
       "Calculating Metrics:   0%|          | 0/5 [00:00<?, ?it/s]"
      ]
     },
     "metadata": {},
     "output_type": "display_data"
    },
    {
     "data": {
      "application/vnd.jupyter.widget-view+json": {
       "model_id": "b0a40ee1d9334ddcb257f594aed9127d",
       "version_major": 2,
       "version_minor": 0
      },
      "text/plain": [
       "Calculating Metrics:   0%|          | 0/5 [00:00<?, ?it/s]"
      ]
     },
     "metadata": {},
     "output_type": "display_data"
    },
    {
     "data": {
      "application/vnd.jupyter.widget-view+json": {
       "model_id": "a8b0e0bbf0334078b1a14f2050c8f1ab",
       "version_major": 2,
       "version_minor": 0
      },
      "text/plain": [
       "Calculating Metrics:   0%|          | 0/1 [00:00<?, ?it/s]"
      ]
     },
     "metadata": {},
     "output_type": "display_data"
    },
    {
     "data": {
      "application/vnd.jupyter.widget-view+json": {
       "model_id": "2ed76059f09f4f09a93cd12c8b5b2c2e",
       "version_major": 2,
       "version_minor": 0
      },
      "text/plain": [
       "Calculating Metrics:   0%|          | 0/5 [00:00<?, ?it/s]"
      ]
     },
     "metadata": {},
     "output_type": "display_data"
    },
    {
     "data": {
      "application/vnd.jupyter.widget-view+json": {
       "model_id": "b301c5b5e36d4a7d91ad7d4fc57b06fc",
       "version_major": 2,
       "version_minor": 0
      },
      "text/plain": [
       "Calculating Metrics:   0%|          | 0/5 [00:00<?, ?it/s]"
      ]
     },
     "metadata": {},
     "output_type": "display_data"
    },
    {
     "data": {
      "application/vnd.jupyter.widget-view+json": {
       "model_id": "349f226f73ad431abca986b2709c0e75",
       "version_major": 2,
       "version_minor": 0
      },
      "text/plain": [
       "Calculating Metrics:   0%|          | 0/1 [00:00<?, ?it/s]"
      ]
     },
     "metadata": {},
     "output_type": "display_data"
    },
    {
     "data": {
      "application/vnd.jupyter.widget-view+json": {
       "model_id": "05fae414c0a340fbb1b36bed2c40b9e7",
       "version_major": 2,
       "version_minor": 0
      },
      "text/plain": [
       "Calculating Metrics:   0%|          | 0/5 [00:00<?, ?it/s]"
      ]
     },
     "metadata": {},
     "output_type": "display_data"
    },
    {
     "data": {
      "application/vnd.jupyter.widget-view+json": {
       "model_id": "ed914a5fe6974dc3a92d08a553577f1c",
       "version_major": 2,
       "version_minor": 0
      },
      "text/plain": [
       "Calculating Metrics:   0%|          | 0/5 [00:00<?, ?it/s]"
      ]
     },
     "metadata": {},
     "output_type": "display_data"
    },
    {
     "data": {
      "application/vnd.jupyter.widget-view+json": {
       "model_id": "284eaa59fd394c84beafa585456d5b22",
       "version_major": 2,
       "version_minor": 0
      },
      "text/plain": [
       "Calculating Metrics:   0%|          | 0/1 [00:00<?, ?it/s]"
      ]
     },
     "metadata": {},
     "output_type": "display_data"
    },
    {
     "data": {
      "application/vnd.jupyter.widget-view+json": {
       "model_id": "d6330e3debc1451fb92e32679bb35fd5",
       "version_major": 2,
       "version_minor": 0
      },
      "text/plain": [
       "Calculating Metrics:   0%|          | 0/5 [00:00<?, ?it/s]"
      ]
     },
     "metadata": {},
     "output_type": "display_data"
    },
    {
     "data": {
      "application/vnd.jupyter.widget-view+json": {
       "model_id": "3c62cb59d0d242c4a824af3a02c7ced6",
       "version_major": 2,
       "version_minor": 0
      },
      "text/plain": [
       "Calculating Metrics:   0%|          | 0/5 [00:00<?, ?it/s]"
      ]
     },
     "metadata": {},
     "output_type": "display_data"
    },
    {
     "data": {
      "application/vnd.jupyter.widget-view+json": {
       "model_id": "325045ae7ea24fcc984368ebdac7a821",
       "version_major": 2,
       "version_minor": 0
      },
      "text/plain": [
       "Calculating Metrics:   0%|          | 0/1 [00:00<?, ?it/s]"
      ]
     },
     "metadata": {},
     "output_type": "display_data"
    },
    {
     "data": {
      "application/vnd.jupyter.widget-view+json": {
       "model_id": "889c614d16074aa482bfcca4986b447a",
       "version_major": 2,
       "version_minor": 0
      },
      "text/plain": [
       "Calculating Metrics:   0%|          | 0/5 [00:00<?, ?it/s]"
      ]
     },
     "metadata": {},
     "output_type": "display_data"
    },
    {
     "data": {
      "application/vnd.jupyter.widget-view+json": {
       "model_id": "f73baf0907324bb397de2fe40b6bbcaf",
       "version_major": 2,
       "version_minor": 0
      },
      "text/plain": [
       "Calculating Metrics:   0%|          | 0/5 [00:00<?, ?it/s]"
      ]
     },
     "metadata": {},
     "output_type": "display_data"
    },
    {
     "data": {
      "application/vnd.jupyter.widget-view+json": {
       "model_id": "1bb9827d91424a588494f5c69c66d1ad",
       "version_major": 2,
       "version_minor": 0
      },
      "text/plain": [
       "Calculating Metrics:   0%|          | 0/1 [00:00<?, ?it/s]"
      ]
     },
     "metadata": {},
     "output_type": "display_data"
    },
    {
     "data": {
      "application/vnd.jupyter.widget-view+json": {
       "model_id": "20d981d22131498b872516ca739581b3",
       "version_major": 2,
       "version_minor": 0
      },
      "text/plain": [
       "Calculating Metrics:   0%|          | 0/5 [00:00<?, ?it/s]"
      ]
     },
     "metadata": {},
     "output_type": "display_data"
    },
    {
     "data": {
      "application/vnd.jupyter.widget-view+json": {
       "model_id": "63bdeb0c006a4059a07e3f83d9d9e49e",
       "version_major": 2,
       "version_minor": 0
      },
      "text/plain": [
       "Calculating Metrics:   0%|          | 0/5 [00:00<?, ?it/s]"
      ]
     },
     "metadata": {},
     "output_type": "display_data"
    },
    {
     "data": {
      "application/vnd.jupyter.widget-view+json": {
       "model_id": "5cb24014f8fe440995c791e943fd2082",
       "version_major": 2,
       "version_minor": 0
      },
      "text/plain": [
       "Calculating Metrics:   0%|          | 0/1 [00:00<?, ?it/s]"
      ]
     },
     "metadata": {},
     "output_type": "display_data"
    },
    {
     "data": {
      "application/vnd.jupyter.widget-view+json": {
       "model_id": "819491a2a23e4396b909dcd2f4982331",
       "version_major": 2,
       "version_minor": 0
      },
      "text/plain": [
       "Calculating Metrics:   0%|          | 0/5 [00:00<?, ?it/s]"
      ]
     },
     "metadata": {},
     "output_type": "display_data"
    },
    {
     "data": {
      "application/vnd.jupyter.widget-view+json": {
       "model_id": "77e9d4ed501f4985955339f07d4d341e",
       "version_major": 2,
       "version_minor": 0
      },
      "text/plain": [
       "Calculating Metrics:   0%|          | 0/5 [00:00<?, ?it/s]"
      ]
     },
     "metadata": {},
     "output_type": "display_data"
    },
    {
     "data": {
      "application/vnd.jupyter.widget-view+json": {
       "model_id": "5b69de21163645969e02f2ddca582a4e",
       "version_major": 2,
       "version_minor": 0
      },
      "text/plain": [
       "Calculating Metrics:   0%|          | 0/1 [00:00<?, ?it/s]"
      ]
     },
     "metadata": {},
     "output_type": "display_data"
    },
    {
     "data": {
      "application/vnd.jupyter.widget-view+json": {
       "model_id": "4e41d1e8f0e14aca8e08bce2816053e1",
       "version_major": 2,
       "version_minor": 0
      },
      "text/plain": [
       "Calculating Metrics:   0%|          | 0/5 [00:00<?, ?it/s]"
      ]
     },
     "metadata": {},
     "output_type": "display_data"
    },
    {
     "data": {
      "application/vnd.jupyter.widget-view+json": {
       "model_id": "1a03efe273b64e56ad4af82429b94639",
       "version_major": 2,
       "version_minor": 0
      },
      "text/plain": [
       "Calculating Metrics:   0%|          | 0/5 [00:00<?, ?it/s]"
      ]
     },
     "metadata": {},
     "output_type": "display_data"
    },
    {
     "data": {
      "application/vnd.jupyter.widget-view+json": {
       "model_id": "fb8ec1ff435547a5bf8d1f03480ace1b",
       "version_major": 2,
       "version_minor": 0
      },
      "text/plain": [
       "Calculating Metrics:   0%|          | 0/1 [00:00<?, ?it/s]"
      ]
     },
     "metadata": {},
     "output_type": "display_data"
    },
    {
     "data": {
      "application/vnd.jupyter.widget-view+json": {
       "model_id": "ed5fe95c312d410c81eb79a3145c1166",
       "version_major": 2,
       "version_minor": 0
      },
      "text/plain": [
       "Calculating Metrics:   0%|          | 0/5 [00:00<?, ?it/s]"
      ]
     },
     "metadata": {},
     "output_type": "display_data"
    },
    {
     "data": {
      "application/vnd.jupyter.widget-view+json": {
       "model_id": "d6b12cf90e2e42f28701b7dc649c28aa",
       "version_major": 2,
       "version_minor": 0
      },
      "text/plain": [
       "Calculating Metrics:   0%|          | 0/5 [00:00<?, ?it/s]"
      ]
     },
     "metadata": {},
     "output_type": "display_data"
    },
    {
     "data": {
      "application/vnd.jupyter.widget-view+json": {
       "model_id": "240058f9527e4d3384413d3ba32608ed",
       "version_major": 2,
       "version_minor": 0
      },
      "text/plain": [
       "Calculating Metrics:   0%|          | 0/1 [00:00<?, ?it/s]"
      ]
     },
     "metadata": {},
     "output_type": "display_data"
    },
    {
     "data": {
      "application/vnd.jupyter.widget-view+json": {
       "model_id": "95171215b40b4ede948333c9fc8b55b6",
       "version_major": 2,
       "version_minor": 0
      },
      "text/plain": [
       "Calculating Metrics:   0%|          | 0/5 [00:00<?, ?it/s]"
      ]
     },
     "metadata": {},
     "output_type": "display_data"
    },
    {
     "data": {
      "application/vnd.jupyter.widget-view+json": {
       "model_id": "020dee23c2f14495aa48c968f2df7b8c",
       "version_major": 2,
       "version_minor": 0
      },
      "text/plain": [
       "Calculating Metrics:   0%|          | 0/5 [00:00<?, ?it/s]"
      ]
     },
     "metadata": {},
     "output_type": "display_data"
    },
    {
     "data": {
      "application/vnd.jupyter.widget-view+json": {
       "model_id": "f8972407782a4aae9498e457dd3da754",
       "version_major": 2,
       "version_minor": 0
      },
      "text/plain": [
       "Calculating Metrics:   0%|          | 0/1 [00:00<?, ?it/s]"
      ]
     },
     "metadata": {},
     "output_type": "display_data"
    },
    {
     "data": {
      "application/vnd.jupyter.widget-view+json": {
       "model_id": "882195d7b20e4302ab2c700c4301daf2",
       "version_major": 2,
       "version_minor": 0
      },
      "text/plain": [
       "Calculating Metrics:   0%|          | 0/5 [00:00<?, ?it/s]"
      ]
     },
     "metadata": {},
     "output_type": "display_data"
    },
    {
     "data": {
      "application/vnd.jupyter.widget-view+json": {
       "model_id": "ac532e4b1c064ef987f13f9efcda0c68",
       "version_major": 2,
       "version_minor": 0
      },
      "text/plain": [
       "Calculating Metrics:   0%|          | 0/5 [00:00<?, ?it/s]"
      ]
     },
     "metadata": {},
     "output_type": "display_data"
    },
    {
     "data": {
      "application/vnd.jupyter.widget-view+json": {
       "model_id": "0131ebd4bc794a788fd0907b85c9d8e5",
       "version_major": 2,
       "version_minor": 0
      },
      "text/plain": [
       "Calculating Metrics:   0%|          | 0/1 [00:00<?, ?it/s]"
      ]
     },
     "metadata": {},
     "output_type": "display_data"
    },
    {
     "data": {
      "application/vnd.jupyter.widget-view+json": {
       "model_id": "8d78b3494b804e7e8906a43c060ec75a",
       "version_major": 2,
       "version_minor": 0
      },
      "text/plain": [
       "Calculating Metrics:   0%|          | 0/5 [00:00<?, ?it/s]"
      ]
     },
     "metadata": {},
     "output_type": "display_data"
    },
    {
     "data": {
      "application/vnd.jupyter.widget-view+json": {
       "model_id": "0a72212b55a74ba9a64620d014c6f112",
       "version_major": 2,
       "version_minor": 0
      },
      "text/plain": [
       "Calculating Metrics:   0%|          | 0/5 [00:00<?, ?it/s]"
      ]
     },
     "metadata": {},
     "output_type": "display_data"
    },
    {
     "data": {
      "application/vnd.jupyter.widget-view+json": {
       "model_id": "4dd78ccc100f42bb951addcc745c52e8",
       "version_major": 2,
       "version_minor": 0
      },
      "text/plain": [
       "Calculating Metrics:   0%|          | 0/1 [00:00<?, ?it/s]"
      ]
     },
     "metadata": {},
     "output_type": "display_data"
    },
    {
     "data": {
      "application/vnd.jupyter.widget-view+json": {
       "model_id": "74f874618c8d4cf9a0389977fd46ee2c",
       "version_major": 2,
       "version_minor": 0
      },
      "text/plain": [
       "Calculating Metrics:   0%|          | 0/5 [00:00<?, ?it/s]"
      ]
     },
     "metadata": {},
     "output_type": "display_data"
    },
    {
     "data": {
      "application/vnd.jupyter.widget-view+json": {
       "model_id": "2189bfecc6e444c9b7fd8e9fddf555b3",
       "version_major": 2,
       "version_minor": 0
      },
      "text/plain": [
       "Calculating Metrics:   0%|          | 0/5 [00:00<?, ?it/s]"
      ]
     },
     "metadata": {},
     "output_type": "display_data"
    },
    {
     "data": {
      "application/vnd.jupyter.widget-view+json": {
       "model_id": "78ab6be3101d45d1af141ad20afa8fb3",
       "version_major": 2,
       "version_minor": 0
      },
      "text/plain": [
       "Calculating Metrics:   0%|          | 0/1 [00:00<?, ?it/s]"
      ]
     },
     "metadata": {},
     "output_type": "display_data"
    },
    {
     "data": {
      "application/vnd.jupyter.widget-view+json": {
       "model_id": "8693a38cf4444aa1b7d0a19e47690b22",
       "version_major": 2,
       "version_minor": 0
      },
      "text/plain": [
       "Calculating Metrics:   0%|          | 0/5 [00:00<?, ?it/s]"
      ]
     },
     "metadata": {},
     "output_type": "display_data"
    },
    {
     "data": {
      "application/vnd.jupyter.widget-view+json": {
       "model_id": "059f6fd039744ae9bdadff761bb3f500",
       "version_major": 2,
       "version_minor": 0
      },
      "text/plain": [
       "Calculating Metrics:   0%|          | 0/5 [00:00<?, ?it/s]"
      ]
     },
     "metadata": {},
     "output_type": "display_data"
    },
    {
     "data": {
      "application/vnd.jupyter.widget-view+json": {
       "model_id": "d1eccd8605f544e387848e75da35c561",
       "version_major": 2,
       "version_minor": 0
      },
      "text/plain": [
       "Calculating Metrics:   0%|          | 0/1 [00:00<?, ?it/s]"
      ]
     },
     "metadata": {},
     "output_type": "display_data"
    },
    {
     "data": {
      "application/vnd.jupyter.widget-view+json": {
       "model_id": "53060870dcc84c61a21890a4091c860e",
       "version_major": 2,
       "version_minor": 0
      },
      "text/plain": [
       "Calculating Metrics:   0%|          | 0/5 [00:00<?, ?it/s]"
      ]
     },
     "metadata": {},
     "output_type": "display_data"
    },
    {
     "data": {
      "application/vnd.jupyter.widget-view+json": {
       "model_id": "b169f12ac5c9498dbae9b5f8fbe10d91",
       "version_major": 2,
       "version_minor": 0
      },
      "text/plain": [
       "Calculating Metrics:   0%|          | 0/5 [00:00<?, ?it/s]"
      ]
     },
     "metadata": {},
     "output_type": "display_data"
    },
    {
     "data": {
      "application/vnd.jupyter.widget-view+json": {
       "model_id": "c09361ed770b485783bbf39b242da095",
       "version_major": 2,
       "version_minor": 0
      },
      "text/plain": [
       "Calculating Metrics:   0%|          | 0/1 [00:00<?, ?it/s]"
      ]
     },
     "metadata": {},
     "output_type": "display_data"
    },
    {
     "data": {
      "application/vnd.jupyter.widget-view+json": {
       "model_id": "71c61011b8f547bc9d517989e55a6d30",
       "version_major": 2,
       "version_minor": 0
      },
      "text/plain": [
       "Calculating Metrics:   0%|          | 0/5 [00:00<?, ?it/s]"
      ]
     },
     "metadata": {},
     "output_type": "display_data"
    },
    {
     "data": {
      "application/vnd.jupyter.widget-view+json": {
       "model_id": "0098df4168554c3d9fbd5135135c828d",
       "version_major": 2,
       "version_minor": 0
      },
      "text/plain": [
       "Calculating Metrics:   0%|          | 0/5 [00:00<?, ?it/s]"
      ]
     },
     "metadata": {},
     "output_type": "display_data"
    },
    {
     "data": {
      "application/vnd.jupyter.widget-view+json": {
       "model_id": "3305b1851e6c478385b7d7fa71f9e191",
       "version_major": 2,
       "version_minor": 0
      },
      "text/plain": [
       "Calculating Metrics:   0%|          | 0/1 [00:00<?, ?it/s]"
      ]
     },
     "metadata": {},
     "output_type": "display_data"
    },
    {
     "data": {
      "application/vnd.jupyter.widget-view+json": {
       "model_id": "2b004124f5c945a184913ffb65827ca7",
       "version_major": 2,
       "version_minor": 0
      },
      "text/plain": [
       "Calculating Metrics:   0%|          | 0/5 [00:00<?, ?it/s]"
      ]
     },
     "metadata": {},
     "output_type": "display_data"
    },
    {
     "data": {
      "application/vnd.jupyter.widget-view+json": {
       "model_id": "38acf3a637a249af8f13565a252e144b",
       "version_major": 2,
       "version_minor": 0
      },
      "text/plain": [
       "Calculating Metrics:   0%|          | 0/5 [00:00<?, ?it/s]"
      ]
     },
     "metadata": {},
     "output_type": "display_data"
    },
    {
     "data": {
      "application/vnd.jupyter.widget-view+json": {
       "model_id": "42a4d031acc3418db6dbc8529387b816",
       "version_major": 2,
       "version_minor": 0
      },
      "text/plain": [
       "Calculating Metrics:   0%|          | 0/1 [00:00<?, ?it/s]"
      ]
     },
     "metadata": {},
     "output_type": "display_data"
    },
    {
     "data": {
      "application/vnd.jupyter.widget-view+json": {
       "model_id": "61f1114a408e49e4b087afcbbfdbf6a6",
       "version_major": 2,
       "version_minor": 0
      },
      "text/plain": [
       "Calculating Metrics:   0%|          | 0/5 [00:00<?, ?it/s]"
      ]
     },
     "metadata": {},
     "output_type": "display_data"
    },
    {
     "data": {
      "application/vnd.jupyter.widget-view+json": {
       "model_id": "506086478a304cf78dfeaad40629336e",
       "version_major": 2,
       "version_minor": 0
      },
      "text/plain": [
       "Calculating Metrics:   0%|          | 0/5 [00:00<?, ?it/s]"
      ]
     },
     "metadata": {},
     "output_type": "display_data"
    },
    {
     "data": {
      "application/vnd.jupyter.widget-view+json": {
       "model_id": "ca6c27e505454354a41a58a42388020e",
       "version_major": 2,
       "version_minor": 0
      },
      "text/plain": [
       "Calculating Metrics:   0%|          | 0/1 [00:00<?, ?it/s]"
      ]
     },
     "metadata": {},
     "output_type": "display_data"
    },
    {
     "data": {
      "application/vnd.jupyter.widget-view+json": {
       "model_id": "d572ed8ff3fc45038c7d5036f3fb6ded",
       "version_major": 2,
       "version_minor": 0
      },
      "text/plain": [
       "Calculating Metrics:   0%|          | 0/5 [00:00<?, ?it/s]"
      ]
     },
     "metadata": {},
     "output_type": "display_data"
    },
    {
     "data": {
      "application/vnd.jupyter.widget-view+json": {
       "model_id": "327c5d89d6934deea19f4e210508a862",
       "version_major": 2,
       "version_minor": 0
      },
      "text/plain": [
       "Calculating Metrics:   0%|          | 0/5 [00:00<?, ?it/s]"
      ]
     },
     "metadata": {},
     "output_type": "display_data"
    },
    {
     "data": {
      "application/vnd.jupyter.widget-view+json": {
       "model_id": "a44f116b4dd349f38020b35e90093cc8",
       "version_major": 2,
       "version_minor": 0
      },
      "text/plain": [
       "Calculating Metrics:   0%|          | 0/1 [00:00<?, ?it/s]"
      ]
     },
     "metadata": {},
     "output_type": "display_data"
    },
    {
     "data": {
      "application/vnd.jupyter.widget-view+json": {
       "model_id": "cbc1a2b780ec4c55beb72f4ef09cc0a3",
       "version_major": 2,
       "version_minor": 0
      },
      "text/plain": [
       "Calculating Metrics:   0%|          | 0/5 [00:00<?, ?it/s]"
      ]
     },
     "metadata": {},
     "output_type": "display_data"
    },
    {
     "data": {
      "application/vnd.jupyter.widget-view+json": {
       "model_id": "3b77bdc6574f4bbfbdea9a76577a7bc8",
       "version_major": 2,
       "version_minor": 0
      },
      "text/plain": [
       "Calculating Metrics:   0%|          | 0/5 [00:00<?, ?it/s]"
      ]
     },
     "metadata": {},
     "output_type": "display_data"
    },
    {
     "data": {
      "application/vnd.jupyter.widget-view+json": {
       "model_id": "a71977d622044047919aeb7c0432f9e4",
       "version_major": 2,
       "version_minor": 0
      },
      "text/plain": [
       "Calculating Metrics:   0%|          | 0/1 [00:00<?, ?it/s]"
      ]
     },
     "metadata": {},
     "output_type": "display_data"
    },
    {
     "data": {
      "application/vnd.jupyter.widget-view+json": {
       "model_id": "04f807b88ae04f029219c58177adc652",
       "version_major": 2,
       "version_minor": 0
      },
      "text/plain": [
       "Calculating Metrics:   0%|          | 0/5 [00:00<?, ?it/s]"
      ]
     },
     "metadata": {},
     "output_type": "display_data"
    },
    {
     "data": {
      "application/vnd.jupyter.widget-view+json": {
       "model_id": "b05864a144c147ef96b7c2209cd5ae8c",
       "version_major": 2,
       "version_minor": 0
      },
      "text/plain": [
       "Calculating Metrics:   0%|          | 0/5 [00:00<?, ?it/s]"
      ]
     },
     "metadata": {},
     "output_type": "display_data"
    },
    {
     "data": {
      "application/vnd.jupyter.widget-view+json": {
       "model_id": "e44ea443e68b4aa7bdd64e605f70bbf9",
       "version_major": 2,
       "version_minor": 0
      },
      "text/plain": [
       "Calculating Metrics:   0%|          | 0/1 [00:00<?, ?it/s]"
      ]
     },
     "metadata": {},
     "output_type": "display_data"
    },
    {
     "data": {
      "application/vnd.jupyter.widget-view+json": {
       "model_id": "f99d54359f0949c383b12f6e524e853e",
       "version_major": 2,
       "version_minor": 0
      },
      "text/plain": [
       "Calculating Metrics:   0%|          | 0/5 [00:00<?, ?it/s]"
      ]
     },
     "metadata": {},
     "output_type": "display_data"
    },
    {
     "data": {
      "application/vnd.jupyter.widget-view+json": {
       "model_id": "34fb9598f7ee4b58b0ec9664c59df8b6",
       "version_major": 2,
       "version_minor": 0
      },
      "text/plain": [
       "Calculating Metrics:   0%|          | 0/5 [00:00<?, ?it/s]"
      ]
     },
     "metadata": {},
     "output_type": "display_data"
    },
    {
     "data": {
      "application/vnd.jupyter.widget-view+json": {
       "model_id": "e999d489f2904a3bb1df83112e9b64ba",
       "version_major": 2,
       "version_minor": 0
      },
      "text/plain": [
       "Calculating Metrics:   0%|          | 0/1 [00:00<?, ?it/s]"
      ]
     },
     "metadata": {},
     "output_type": "display_data"
    },
    {
     "data": {
      "application/vnd.jupyter.widget-view+json": {
       "model_id": "3fbfde74e22145da91dbd8f68f20f5c7",
       "version_major": 2,
       "version_minor": 0
      },
      "text/plain": [
       "Calculating Metrics:   0%|          | 0/5 [00:00<?, ?it/s]"
      ]
     },
     "metadata": {},
     "output_type": "display_data"
    },
    {
     "data": {
      "application/vnd.jupyter.widget-view+json": {
       "model_id": "2115031526f140b99317179502e5099a",
       "version_major": 2,
       "version_minor": 0
      },
      "text/plain": [
       "Calculating Metrics:   0%|          | 0/5 [00:00<?, ?it/s]"
      ]
     },
     "metadata": {},
     "output_type": "display_data"
    },
    {
     "data": {
      "application/vnd.jupyter.widget-view+json": {
       "model_id": "33d62b249f6c46bd8a6242cb00b4b3f7",
       "version_major": 2,
       "version_minor": 0
      },
      "text/plain": [
       "Calculating Metrics:   0%|          | 0/1 [00:00<?, ?it/s]"
      ]
     },
     "metadata": {},
     "output_type": "display_data"
    },
    {
     "data": {
      "application/vnd.jupyter.widget-view+json": {
       "model_id": "e592c0634ccc4b0395350c3d2f65fd5a",
       "version_major": 2,
       "version_minor": 0
      },
      "text/plain": [
       "Calculating Metrics:   0%|          | 0/5 [00:00<?, ?it/s]"
      ]
     },
     "metadata": {},
     "output_type": "display_data"
    },
    {
     "data": {
      "application/vnd.jupyter.widget-view+json": {
       "model_id": "45c462e16e0746d1a0fb9c3b8aec1ea7",
       "version_major": 2,
       "version_minor": 0
      },
      "text/plain": [
       "Calculating Metrics:   0%|          | 0/5 [00:00<?, ?it/s]"
      ]
     },
     "metadata": {},
     "output_type": "display_data"
    },
    {
     "data": {
      "application/vnd.jupyter.widget-view+json": {
       "model_id": "a575dd949272476f9eb2d097a87376c4",
       "version_major": 2,
       "version_minor": 0
      },
      "text/plain": [
       "Calculating Metrics:   0%|          | 0/1 [00:00<?, ?it/s]"
      ]
     },
     "metadata": {},
     "output_type": "display_data"
    },
    {
     "data": {
      "application/vnd.jupyter.widget-view+json": {
       "model_id": "5ce0ab5d62e846368d27f84a78250e18",
       "version_major": 2,
       "version_minor": 0
      },
      "text/plain": [
       "Calculating Metrics:   0%|          | 0/5 [00:00<?, ?it/s]"
      ]
     },
     "metadata": {},
     "output_type": "display_data"
    },
    {
     "data": {
      "application/vnd.jupyter.widget-view+json": {
       "model_id": "dbab44189f104ba2add526f7ed5519fc",
       "version_major": 2,
       "version_minor": 0
      },
      "text/plain": [
       "Calculating Metrics:   0%|          | 0/5 [00:00<?, ?it/s]"
      ]
     },
     "metadata": {},
     "output_type": "display_data"
    },
    {
     "data": {
      "application/vnd.jupyter.widget-view+json": {
       "model_id": "8f28271c921a4279b8f62091a0357d2d",
       "version_major": 2,
       "version_minor": 0
      },
      "text/plain": [
       "Calculating Metrics:   0%|          | 0/1 [00:00<?, ?it/s]"
      ]
     },
     "metadata": {},
     "output_type": "display_data"
    },
    {
     "data": {
      "application/vnd.jupyter.widget-view+json": {
       "model_id": "a7b53f97edea4025a3480fdc46312e9a",
       "version_major": 2,
       "version_minor": 0
      },
      "text/plain": [
       "Calculating Metrics:   0%|          | 0/5 [00:00<?, ?it/s]"
      ]
     },
     "metadata": {},
     "output_type": "display_data"
    },
    {
     "data": {
      "application/vnd.jupyter.widget-view+json": {
       "model_id": "378a688aebc0421892043826eb582d5b",
       "version_major": 2,
       "version_minor": 0
      },
      "text/plain": [
       "Calculating Metrics:   0%|          | 0/5 [00:00<?, ?it/s]"
      ]
     },
     "metadata": {},
     "output_type": "display_data"
    },
    {
     "data": {
      "application/vnd.jupyter.widget-view+json": {
       "model_id": "189d37c00d4842d1951aeb023beeae9e",
       "version_major": 2,
       "version_minor": 0
      },
      "text/plain": [
       "Calculating Metrics:   0%|          | 0/1 [00:00<?, ?it/s]"
      ]
     },
     "metadata": {},
     "output_type": "display_data"
    },
    {
     "data": {
      "application/vnd.jupyter.widget-view+json": {
       "model_id": "933326498774428698fa15b0e077fc7c",
       "version_major": 2,
       "version_minor": 0
      },
      "text/plain": [
       "Calculating Metrics:   0%|          | 0/5 [00:00<?, ?it/s]"
      ]
     },
     "metadata": {},
     "output_type": "display_data"
    },
    {
     "data": {
      "application/vnd.jupyter.widget-view+json": {
       "model_id": "d230e0a65fe447a29d5af219e7b5ae68",
       "version_major": 2,
       "version_minor": 0
      },
      "text/plain": [
       "Calculating Metrics:   0%|          | 0/5 [00:00<?, ?it/s]"
      ]
     },
     "metadata": {},
     "output_type": "display_data"
    },
    {
     "data": {
      "application/vnd.jupyter.widget-view+json": {
       "model_id": "437ddb6581c046a4a852f8f1c3938ba0",
       "version_major": 2,
       "version_minor": 0
      },
      "text/plain": [
       "Calculating Metrics:   0%|          | 0/1 [00:00<?, ?it/s]"
      ]
     },
     "metadata": {},
     "output_type": "display_data"
    },
    {
     "data": {
      "application/vnd.jupyter.widget-view+json": {
       "model_id": "ee48837b4fdc4877b5f31d0a6dce8cf4",
       "version_major": 2,
       "version_minor": 0
      },
      "text/plain": [
       "Calculating Metrics:   0%|          | 0/5 [00:00<?, ?it/s]"
      ]
     },
     "metadata": {},
     "output_type": "display_data"
    },
    {
     "data": {
      "application/vnd.jupyter.widget-view+json": {
       "model_id": "93fcab0a4d274453895860c298ea15a7",
       "version_major": 2,
       "version_minor": 0
      },
      "text/plain": [
       "Calculating Metrics:   0%|          | 0/5 [00:00<?, ?it/s]"
      ]
     },
     "metadata": {},
     "output_type": "display_data"
    },
    {
     "data": {
      "application/vnd.jupyter.widget-view+json": {
       "model_id": "d66c419ac04b48d3bafaa02a8471d8ba",
       "version_major": 2,
       "version_minor": 0
      },
      "text/plain": [
       "Calculating Metrics:   0%|          | 0/1 [00:00<?, ?it/s]"
      ]
     },
     "metadata": {},
     "output_type": "display_data"
    },
    {
     "data": {
      "application/vnd.jupyter.widget-view+json": {
       "model_id": "5e7a89eeb9c44e30a810695c201ccf4a",
       "version_major": 2,
       "version_minor": 0
      },
      "text/plain": [
       "Calculating Metrics:   0%|          | 0/5 [00:00<?, ?it/s]"
      ]
     },
     "metadata": {},
     "output_type": "display_data"
    },
    {
     "data": {
      "application/vnd.jupyter.widget-view+json": {
       "model_id": "e9ff07141db3468c9d8b6b70c011351f",
       "version_major": 2,
       "version_minor": 0
      },
      "text/plain": [
       "Calculating Metrics:   0%|          | 0/5 [00:00<?, ?it/s]"
      ]
     },
     "metadata": {},
     "output_type": "display_data"
    },
    {
     "data": {
      "application/vnd.jupyter.widget-view+json": {
       "model_id": "393badd21bdf4bd2bb980abdebc4cf85",
       "version_major": 2,
       "version_minor": 0
      },
      "text/plain": [
       "Calculating Metrics:   0%|          | 0/1 [00:00<?, ?it/s]"
      ]
     },
     "metadata": {},
     "output_type": "display_data"
    },
    {
     "data": {
      "application/vnd.jupyter.widget-view+json": {
       "model_id": "cd2c7bc02dd944ddb2c52cfd1e5443a7",
       "version_major": 2,
       "version_minor": 0
      },
      "text/plain": [
       "Calculating Metrics:   0%|          | 0/5 [00:00<?, ?it/s]"
      ]
     },
     "metadata": {},
     "output_type": "display_data"
    },
    {
     "data": {
      "application/vnd.jupyter.widget-view+json": {
       "model_id": "eae40aad487d4976b8d4fdcc377b7095",
       "version_major": 2,
       "version_minor": 0
      },
      "text/plain": [
       "Calculating Metrics:   0%|          | 0/5 [00:00<?, ?it/s]"
      ]
     },
     "metadata": {},
     "output_type": "display_data"
    },
    {
     "data": {
      "application/vnd.jupyter.widget-view+json": {
       "model_id": "7ebb8a3ec76f4933b387d311f0167a1c",
       "version_major": 2,
       "version_minor": 0
      },
      "text/plain": [
       "Calculating Metrics:   0%|          | 0/1 [00:00<?, ?it/s]"
      ]
     },
     "metadata": {},
     "output_type": "display_data"
    },
    {
     "data": {
      "application/vnd.jupyter.widget-view+json": {
       "model_id": "9813d1d64c9341f18de6f2b5766769bd",
       "version_major": 2,
       "version_minor": 0
      },
      "text/plain": [
       "Calculating Metrics:   0%|          | 0/5 [00:00<?, ?it/s]"
      ]
     },
     "metadata": {},
     "output_type": "display_data"
    },
    {
     "data": {
      "application/vnd.jupyter.widget-view+json": {
       "model_id": "b06b6ca8ee5440e1bf10c7466f47f924",
       "version_major": 2,
       "version_minor": 0
      },
      "text/plain": [
       "Calculating Metrics:   0%|          | 0/5 [00:00<?, ?it/s]"
      ]
     },
     "metadata": {},
     "output_type": "display_data"
    },
    {
     "data": {
      "application/vnd.jupyter.widget-view+json": {
       "model_id": "52092b7171144b32a5a394facc2eb6ac",
       "version_major": 2,
       "version_minor": 0
      },
      "text/plain": [
       "Calculating Metrics:   0%|          | 0/1 [00:00<?, ?it/s]"
      ]
     },
     "metadata": {},
     "output_type": "display_data"
    },
    {
     "data": {
      "application/vnd.jupyter.widget-view+json": {
       "model_id": "c53695f63aa9422283bde2c659c94a75",
       "version_major": 2,
       "version_minor": 0
      },
      "text/plain": [
       "Calculating Metrics:   0%|          | 0/5 [00:00<?, ?it/s]"
      ]
     },
     "metadata": {},
     "output_type": "display_data"
    },
    {
     "data": {
      "application/vnd.jupyter.widget-view+json": {
       "model_id": "ec52b8dcbad648a7af67bfc549a5cb76",
       "version_major": 2,
       "version_minor": 0
      },
      "text/plain": [
       "Calculating Metrics:   0%|          | 0/5 [00:00<?, ?it/s]"
      ]
     },
     "metadata": {},
     "output_type": "display_data"
    },
    {
     "data": {
      "application/vnd.jupyter.widget-view+json": {
       "model_id": "066c3e674f5e4342a519f30a189712b2",
       "version_major": 2,
       "version_minor": 0
      },
      "text/plain": [
       "Calculating Metrics:   0%|          | 0/1 [00:00<?, ?it/s]"
      ]
     },
     "metadata": {},
     "output_type": "display_data"
    },
    {
     "data": {
      "application/vnd.jupyter.widget-view+json": {
       "model_id": "0bf00c940a7d49deb6918ade6e038618",
       "version_major": 2,
       "version_minor": 0
      },
      "text/plain": [
       "Calculating Metrics:   0%|          | 0/5 [00:00<?, ?it/s]"
      ]
     },
     "metadata": {},
     "output_type": "display_data"
    },
    {
     "data": {
      "application/vnd.jupyter.widget-view+json": {
       "model_id": "5501caf984ae44a681d9fe8d195a37b1",
       "version_major": 2,
       "version_minor": 0
      },
      "text/plain": [
       "Calculating Metrics:   0%|          | 0/5 [00:00<?, ?it/s]"
      ]
     },
     "metadata": {},
     "output_type": "display_data"
    },
    {
     "data": {
      "application/vnd.jupyter.widget-view+json": {
       "model_id": "868885b549914f04a93c66ce63519db0",
       "version_major": 2,
       "version_minor": 0
      },
      "text/plain": [
       "Calculating Metrics:   0%|          | 0/1 [00:00<?, ?it/s]"
      ]
     },
     "metadata": {},
     "output_type": "display_data"
    },
    {
     "data": {
      "application/vnd.jupyter.widget-view+json": {
       "model_id": "3ff243ce472a48b0893f5ba30ef26d17",
       "version_major": 2,
       "version_minor": 0
      },
      "text/plain": [
       "Calculating Metrics:   0%|          | 0/5 [00:00<?, ?it/s]"
      ]
     },
     "metadata": {},
     "output_type": "display_data"
    },
    {
     "data": {
      "application/vnd.jupyter.widget-view+json": {
       "model_id": "ac5022e7f90749b9baca38a066e3c014",
       "version_major": 2,
       "version_minor": 0
      },
      "text/plain": [
       "Calculating Metrics:   0%|          | 0/5 [00:00<?, ?it/s]"
      ]
     },
     "metadata": {},
     "output_type": "display_data"
    },
    {
     "data": {
      "application/vnd.jupyter.widget-view+json": {
       "model_id": "234197c795bb45d4ac2438de5f66d5bb",
       "version_major": 2,
       "version_minor": 0
      },
      "text/plain": [
       "Calculating Metrics:   0%|          | 0/1 [00:00<?, ?it/s]"
      ]
     },
     "metadata": {},
     "output_type": "display_data"
    },
    {
     "data": {
      "application/vnd.jupyter.widget-view+json": {
       "model_id": "c1977104dad44a17977c0372177f2787",
       "version_major": 2,
       "version_minor": 0
      },
      "text/plain": [
       "Calculating Metrics:   0%|          | 0/5 [00:00<?, ?it/s]"
      ]
     },
     "metadata": {},
     "output_type": "display_data"
    },
    {
     "data": {
      "application/vnd.jupyter.widget-view+json": {
       "model_id": "cb95e8b302334829a31f298e733fded9",
       "version_major": 2,
       "version_minor": 0
      },
      "text/plain": [
       "Calculating Metrics:   0%|          | 0/5 [00:00<?, ?it/s]"
      ]
     },
     "metadata": {},
     "output_type": "display_data"
    },
    {
     "data": {
      "application/vnd.jupyter.widget-view+json": {
       "model_id": "66e11655deea467c96bbecce6cfd6b4f",
       "version_major": 2,
       "version_minor": 0
      },
      "text/plain": [
       "Calculating Metrics:   0%|          | 0/1 [00:00<?, ?it/s]"
      ]
     },
     "metadata": {},
     "output_type": "display_data"
    },
    {
     "data": {
      "application/vnd.jupyter.widget-view+json": {
       "model_id": "0ba08300229b4242bbfd1682b9ec334b",
       "version_major": 2,
       "version_minor": 0
      },
      "text/plain": [
       "Calculating Metrics:   0%|          | 0/5 [00:00<?, ?it/s]"
      ]
     },
     "metadata": {},
     "output_type": "display_data"
    },
    {
     "data": {
      "application/vnd.jupyter.widget-view+json": {
       "model_id": "1e3a9c09d6d64b058f415687e30a5e64",
       "version_major": 2,
       "version_minor": 0
      },
      "text/plain": [
       "Calculating Metrics:   0%|          | 0/5 [00:00<?, ?it/s]"
      ]
     },
     "metadata": {},
     "output_type": "display_data"
    },
    {
     "data": {
      "application/vnd.jupyter.widget-view+json": {
       "model_id": "28cbba1ed5a8439fbb868c0fa0ce9f41",
       "version_major": 2,
       "version_minor": 0
      },
      "text/plain": [
       "Calculating Metrics:   0%|          | 0/1 [00:00<?, ?it/s]"
      ]
     },
     "metadata": {},
     "output_type": "display_data"
    },
    {
     "data": {
      "application/vnd.jupyter.widget-view+json": {
       "model_id": "1f72c981b47e496bad4d57fe4074d7b0",
       "version_major": 2,
       "version_minor": 0
      },
      "text/plain": [
       "Calculating Metrics:   0%|          | 0/5 [00:00<?, ?it/s]"
      ]
     },
     "metadata": {},
     "output_type": "display_data"
    },
    {
     "data": {
      "application/vnd.jupyter.widget-view+json": {
       "model_id": "c7f4222b65f847ae9afd88568e4ecf56",
       "version_major": 2,
       "version_minor": 0
      },
      "text/plain": [
       "Calculating Metrics:   0%|          | 0/5 [00:00<?, ?it/s]"
      ]
     },
     "metadata": {},
     "output_type": "display_data"
    },
    {
     "data": {
      "application/vnd.jupyter.widget-view+json": {
       "model_id": "16973f00f3e14445acb0b5e4dcbb7084",
       "version_major": 2,
       "version_minor": 0
      },
      "text/plain": [
       "Calculating Metrics:   0%|          | 0/1 [00:00<?, ?it/s]"
      ]
     },
     "metadata": {},
     "output_type": "display_data"
    },
    {
     "data": {
      "application/vnd.jupyter.widget-view+json": {
       "model_id": "1c97f48fc1e744e98529ac444e8a6197",
       "version_major": 2,
       "version_minor": 0
      },
      "text/plain": [
       "Calculating Metrics:   0%|          | 0/5 [00:00<?, ?it/s]"
      ]
     },
     "metadata": {},
     "output_type": "display_data"
    },
    {
     "data": {
      "application/vnd.jupyter.widget-view+json": {
       "model_id": "b233dafeb904427fbdbf223a8ca70372",
       "version_major": 2,
       "version_minor": 0
      },
      "text/plain": [
       "Calculating Metrics:   0%|          | 0/5 [00:00<?, ?it/s]"
      ]
     },
     "metadata": {},
     "output_type": "display_data"
    },
    {
     "data": {
      "application/vnd.jupyter.widget-view+json": {
       "model_id": "0f368d2d394c4123994de9366a6ed64a",
       "version_major": 2,
       "version_minor": 0
      },
      "text/plain": [
       "Calculating Metrics:   0%|          | 0/1 [00:00<?, ?it/s]"
      ]
     },
     "metadata": {},
     "output_type": "display_data"
    },
    {
     "data": {
      "application/vnd.jupyter.widget-view+json": {
       "model_id": "a49364d1188b417489636419eaf07033",
       "version_major": 2,
       "version_minor": 0
      },
      "text/plain": [
       "Calculating Metrics:   0%|          | 0/5 [00:00<?, ?it/s]"
      ]
     },
     "metadata": {},
     "output_type": "display_data"
    },
    {
     "data": {
      "application/vnd.jupyter.widget-view+json": {
       "model_id": "e9f1c65c3a064668ba12cdfe2105f95d",
       "version_major": 2,
       "version_minor": 0
      },
      "text/plain": [
       "Calculating Metrics:   0%|          | 0/5 [00:00<?, ?it/s]"
      ]
     },
     "metadata": {},
     "output_type": "display_data"
    },
    {
     "data": {
      "application/vnd.jupyter.widget-view+json": {
       "model_id": "70771b16bba347ba898a898699df9d86",
       "version_major": 2,
       "version_minor": 0
      },
      "text/plain": [
       "Calculating Metrics:   0%|          | 0/1 [00:00<?, ?it/s]"
      ]
     },
     "metadata": {},
     "output_type": "display_data"
    },
    {
     "data": {
      "application/vnd.jupyter.widget-view+json": {
       "model_id": "2564b2ee9d664fd48e7f3e475c7d996e",
       "version_major": 2,
       "version_minor": 0
      },
      "text/plain": [
       "Calculating Metrics:   0%|          | 0/5 [00:00<?, ?it/s]"
      ]
     },
     "metadata": {},
     "output_type": "display_data"
    },
    {
     "data": {
      "application/vnd.jupyter.widget-view+json": {
       "model_id": "b837b0bfbcfc43a598b338ab3e4d5d37",
       "version_major": 2,
       "version_minor": 0
      },
      "text/plain": [
       "Calculating Metrics:   0%|          | 0/5 [00:00<?, ?it/s]"
      ]
     },
     "metadata": {},
     "output_type": "display_data"
    },
    {
     "data": {
      "application/vnd.jupyter.widget-view+json": {
       "model_id": "6d20d9ef83614129a32a0b2d42e47d17",
       "version_major": 2,
       "version_minor": 0
      },
      "text/plain": [
       "Calculating Metrics:   0%|          | 0/1 [00:00<?, ?it/s]"
      ]
     },
     "metadata": {},
     "output_type": "display_data"
    },
    {
     "name": "stderr",
     "output_type": "stream",
     "text": [
      "IOPub message rate exceeded.\n",
      "The notebook server will temporarily stop sending output\n",
      "to the client in order to avoid crashing it.\n",
      "To change this limit, set the config variable\n",
      "`--NotebookApp.iopub_msg_rate_limit`.\n",
      "\n",
      "Current values:\n",
      "NotebookApp.iopub_msg_rate_limit=1000.0 (msgs/sec)\n",
      "NotebookApp.rate_limit_window=3.0 (secs)\n",
      "\n"
     ]
    },
    {
     "data": {
      "application/vnd.jupyter.widget-view+json": {
       "model_id": "6bfc47eb790b46fea9671fdb2847cf5d",
       "version_major": 2,
       "version_minor": 0
      },
      "text/plain": [
       "Calculating Metrics:   0%|          | 0/1 [00:00<?, ?it/s]"
      ]
     },
     "metadata": {},
     "output_type": "display_data"
    },
    {
     "data": {
      "application/vnd.jupyter.widget-view+json": {
       "model_id": "3eee01f6b34a49faa70f9913f9ba443f",
       "version_major": 2,
       "version_minor": 0
      },
      "text/plain": [
       "Calculating Metrics:   0%|          | 0/5 [00:00<?, ?it/s]"
      ]
     },
     "metadata": {},
     "output_type": "display_data"
    },
    {
     "data": {
      "application/vnd.jupyter.widget-view+json": {
       "model_id": "60f04c7c68c04372a5c6c4be7208dd68",
       "version_major": 2,
       "version_minor": 0
      },
      "text/plain": [
       "Calculating Metrics:   0%|          | 0/5 [00:00<?, ?it/s]"
      ]
     },
     "metadata": {},
     "output_type": "display_data"
    },
    {
     "data": {
      "application/vnd.jupyter.widget-view+json": {
       "model_id": "a5839f41b1ca4b5faf1be0ec8a6007e0",
       "version_major": 2,
       "version_minor": 0
      },
      "text/plain": [
       "Calculating Metrics:   0%|          | 0/1 [00:00<?, ?it/s]"
      ]
     },
     "metadata": {},
     "output_type": "display_data"
    },
    {
     "data": {
      "application/vnd.jupyter.widget-view+json": {
       "model_id": "8c63aa64f9fc47c1a34d80e661e4e118",
       "version_major": 2,
       "version_minor": 0
      },
      "text/plain": [
       "Calculating Metrics:   0%|          | 0/5 [00:00<?, ?it/s]"
      ]
     },
     "metadata": {},
     "output_type": "display_data"
    },
    {
     "data": {
      "application/vnd.jupyter.widget-view+json": {
       "model_id": "4d784b049e3d41a4906da9258e010b13",
       "version_major": 2,
       "version_minor": 0
      },
      "text/plain": [
       "Calculating Metrics:   0%|          | 0/5 [00:00<?, ?it/s]"
      ]
     },
     "metadata": {},
     "output_type": "display_data"
    },
    {
     "data": {
      "application/vnd.jupyter.widget-view+json": {
       "model_id": "c69c689c67094140a0b6a714b144b00b",
       "version_major": 2,
       "version_minor": 0
      },
      "text/plain": [
       "Calculating Metrics:   0%|          | 0/1 [00:00<?, ?it/s]"
      ]
     },
     "metadata": {},
     "output_type": "display_data"
    },
    {
     "data": {
      "application/vnd.jupyter.widget-view+json": {
       "model_id": "70c6acd01c2746f7ae5d08d41c6dcab4",
       "version_major": 2,
       "version_minor": 0
      },
      "text/plain": [
       "Calculating Metrics:   0%|          | 0/5 [00:00<?, ?it/s]"
      ]
     },
     "metadata": {},
     "output_type": "display_data"
    },
    {
     "data": {
      "application/vnd.jupyter.widget-view+json": {
       "model_id": "5328c1ed265343f0af58063fd2eb5879",
       "version_major": 2,
       "version_minor": 0
      },
      "text/plain": [
       "Calculating Metrics:   0%|          | 0/5 [00:00<?, ?it/s]"
      ]
     },
     "metadata": {},
     "output_type": "display_data"
    },
    {
     "data": {
      "application/vnd.jupyter.widget-view+json": {
       "model_id": "29393fda2b1a45beb38d87f0187d398f",
       "version_major": 2,
       "version_minor": 0
      },
      "text/plain": [
       "Calculating Metrics:   0%|          | 0/1 [00:00<?, ?it/s]"
      ]
     },
     "metadata": {},
     "output_type": "display_data"
    },
    {
     "data": {
      "application/vnd.jupyter.widget-view+json": {
       "model_id": "804128f6d860468097c0a4a9933e876a",
       "version_major": 2,
       "version_minor": 0
      },
      "text/plain": [
       "Calculating Metrics:   0%|          | 0/5 [00:00<?, ?it/s]"
      ]
     },
     "metadata": {},
     "output_type": "display_data"
    },
    {
     "data": {
      "application/vnd.jupyter.widget-view+json": {
       "model_id": "8c01560c513648cab3e12c16c9d680f7",
       "version_major": 2,
       "version_minor": 0
      },
      "text/plain": [
       "Calculating Metrics:   0%|          | 0/5 [00:00<?, ?it/s]"
      ]
     },
     "metadata": {},
     "output_type": "display_data"
    },
    {
     "data": {
      "application/vnd.jupyter.widget-view+json": {
       "model_id": "d620864c687645e69e478382cb4c3f14",
       "version_major": 2,
       "version_minor": 0
      },
      "text/plain": [
       "Calculating Metrics:   0%|          | 0/1 [00:00<?, ?it/s]"
      ]
     },
     "metadata": {},
     "output_type": "display_data"
    },
    {
     "data": {
      "application/vnd.jupyter.widget-view+json": {
       "model_id": "bf2d9fc31ba24e34b54f533bad85e48c",
       "version_major": 2,
       "version_minor": 0
      },
      "text/plain": [
       "Calculating Metrics:   0%|          | 0/5 [00:00<?, ?it/s]"
      ]
     },
     "metadata": {},
     "output_type": "display_data"
    },
    {
     "data": {
      "application/vnd.jupyter.widget-view+json": {
       "model_id": "6716469d88104a798d5b164e8ba268bf",
       "version_major": 2,
       "version_minor": 0
      },
      "text/plain": [
       "Calculating Metrics:   0%|          | 0/5 [00:00<?, ?it/s]"
      ]
     },
     "metadata": {},
     "output_type": "display_data"
    },
    {
     "data": {
      "application/vnd.jupyter.widget-view+json": {
       "model_id": "af3eee16cd2a4624a6c5e8bf47ac385b",
       "version_major": 2,
       "version_minor": 0
      },
      "text/plain": [
       "Calculating Metrics:   0%|          | 0/1 [00:00<?, ?it/s]"
      ]
     },
     "metadata": {},
     "output_type": "display_data"
    },
    {
     "data": {
      "application/vnd.jupyter.widget-view+json": {
       "model_id": "af5324ec4e86494e9627453418a3aac7",
       "version_major": 2,
       "version_minor": 0
      },
      "text/plain": [
       "Calculating Metrics:   0%|          | 0/5 [00:00<?, ?it/s]"
      ]
     },
     "metadata": {},
     "output_type": "display_data"
    },
    {
     "data": {
      "application/vnd.jupyter.widget-view+json": {
       "model_id": "d6b5d0f6b2e346b78e5f9b0e478fbd1d",
       "version_major": 2,
       "version_minor": 0
      },
      "text/plain": [
       "Calculating Metrics:   0%|          | 0/5 [00:00<?, ?it/s]"
      ]
     },
     "metadata": {},
     "output_type": "display_data"
    },
    {
     "data": {
      "application/vnd.jupyter.widget-view+json": {
       "model_id": "fe4966efc8e841d8b2054d5554ff2a04",
       "version_major": 2,
       "version_minor": 0
      },
      "text/plain": [
       "Calculating Metrics:   0%|          | 0/1 [00:00<?, ?it/s]"
      ]
     },
     "metadata": {},
     "output_type": "display_data"
    },
    {
     "data": {
      "application/vnd.jupyter.widget-view+json": {
       "model_id": "afcc657ac1824da0874c1783c0c32bca",
       "version_major": 2,
       "version_minor": 0
      },
      "text/plain": [
       "Calculating Metrics:   0%|          | 0/5 [00:00<?, ?it/s]"
      ]
     },
     "metadata": {},
     "output_type": "display_data"
    },
    {
     "data": {
      "application/vnd.jupyter.widget-view+json": {
       "model_id": "282a3ab3d4e8414e913bcad59965dca3",
       "version_major": 2,
       "version_minor": 0
      },
      "text/plain": [
       "Calculating Metrics:   0%|          | 0/5 [00:00<?, ?it/s]"
      ]
     },
     "metadata": {},
     "output_type": "display_data"
    },
    {
     "data": {
      "application/vnd.jupyter.widget-view+json": {
       "model_id": "ff0dfe039e0b425791db9141baa66568",
       "version_major": 2,
       "version_minor": 0
      },
      "text/plain": [
       "Calculating Metrics:   0%|          | 0/1 [00:00<?, ?it/s]"
      ]
     },
     "metadata": {},
     "output_type": "display_data"
    },
    {
     "data": {
      "application/vnd.jupyter.widget-view+json": {
       "model_id": "d8a323716ed4464194b647d741848580",
       "version_major": 2,
       "version_minor": 0
      },
      "text/plain": [
       "Calculating Metrics:   0%|          | 0/5 [00:00<?, ?it/s]"
      ]
     },
     "metadata": {},
     "output_type": "display_data"
    },
    {
     "data": {
      "application/vnd.jupyter.widget-view+json": {
       "model_id": "902a82fbd06b4c23a051b935e140d96f",
       "version_major": 2,
       "version_minor": 0
      },
      "text/plain": [
       "Calculating Metrics:   0%|          | 0/5 [00:00<?, ?it/s]"
      ]
     },
     "metadata": {},
     "output_type": "display_data"
    },
    {
     "data": {
      "application/vnd.jupyter.widget-view+json": {
       "model_id": "13cd88a3fcfc4380bb47baa5627abca7",
       "version_major": 2,
       "version_minor": 0
      },
      "text/plain": [
       "Calculating Metrics:   0%|          | 0/5 [00:00<?, ?it/s]"
      ]
     },
     "metadata": {},
     "output_type": "display_data"
    },
    {
     "data": {
      "application/vnd.jupyter.widget-view+json": {
       "model_id": "70db8d83ef3a4d16a29f790ea7acf6f9",
       "version_major": 2,
       "version_minor": 0
      },
      "text/plain": [
       "Calculating Metrics:   0%|          | 0/5 [00:00<?, ?it/s]"
      ]
     },
     "metadata": {},
     "output_type": "display_data"
    },
    {
     "data": {
      "application/vnd.jupyter.widget-view+json": {
       "model_id": "ae60b1f76c1a43cab62e51354fe8c0bd",
       "version_major": 2,
       "version_minor": 0
      },
      "text/plain": [
       "Calculating Metrics:   0%|          | 0/1 [00:00<?, ?it/s]"
      ]
     },
     "metadata": {},
     "output_type": "display_data"
    },
    {
     "data": {
      "application/vnd.jupyter.widget-view+json": {
       "model_id": "2f818679a9054f828bf5b02ca49e9a04",
       "version_major": 2,
       "version_minor": 0
      },
      "text/plain": [
       "Calculating Metrics:   0%|          | 0/5 [00:00<?, ?it/s]"
      ]
     },
     "metadata": {},
     "output_type": "display_data"
    },
    {
     "data": {
      "application/vnd.jupyter.widget-view+json": {
       "model_id": "0584a1dda09e4e78b95ee0fb8fdf90e7",
       "version_major": 2,
       "version_minor": 0
      },
      "text/plain": [
       "Calculating Metrics:   0%|          | 0/5 [00:00<?, ?it/s]"
      ]
     },
     "metadata": {},
     "output_type": "display_data"
    },
    {
     "data": {
      "application/vnd.jupyter.widget-view+json": {
       "model_id": "ee64082bfe6a48d5b2c543c04e66affa",
       "version_major": 2,
       "version_minor": 0
      },
      "text/plain": [
       "Calculating Metrics:   0%|          | 0/1 [00:00<?, ?it/s]"
      ]
     },
     "metadata": {},
     "output_type": "display_data"
    },
    {
     "data": {
      "application/vnd.jupyter.widget-view+json": {
       "model_id": "a0dc4ac6416741af9b3de47313f967ae",
       "version_major": 2,
       "version_minor": 0
      },
      "text/plain": [
       "Calculating Metrics:   0%|          | 0/5 [00:00<?, ?it/s]"
      ]
     },
     "metadata": {},
     "output_type": "display_data"
    },
    {
     "data": {
      "application/vnd.jupyter.widget-view+json": {
       "model_id": "6c8fe2ee641142a99df4c51eaecb5f31",
       "version_major": 2,
       "version_minor": 0
      },
      "text/plain": [
       "Calculating Metrics:   0%|          | 0/5 [00:00<?, ?it/s]"
      ]
     },
     "metadata": {},
     "output_type": "display_data"
    },
    {
     "data": {
      "application/vnd.jupyter.widget-view+json": {
       "model_id": "5c51b5d5132745ae8ba9c53ccc55a81f",
       "version_major": 2,
       "version_minor": 0
      },
      "text/plain": [
       "Calculating Metrics:   0%|          | 0/1 [00:00<?, ?it/s]"
      ]
     },
     "metadata": {},
     "output_type": "display_data"
    },
    {
     "data": {
      "application/vnd.jupyter.widget-view+json": {
       "model_id": "1bea58bd8812434c8ca39596872310df",
       "version_major": 2,
       "version_minor": 0
      },
      "text/plain": [
       "Calculating Metrics:   0%|          | 0/5 [00:00<?, ?it/s]"
      ]
     },
     "metadata": {},
     "output_type": "display_data"
    },
    {
     "data": {
      "application/vnd.jupyter.widget-view+json": {
       "model_id": "e845e08cea1348aba3287406c6ace602",
       "version_major": 2,
       "version_minor": 0
      },
      "text/plain": [
       "Calculating Metrics:   0%|          | 0/5 [00:00<?, ?it/s]"
      ]
     },
     "metadata": {},
     "output_type": "display_data"
    },
    {
     "data": {
      "application/vnd.jupyter.widget-view+json": {
       "model_id": "c74eced9ac2c4b009e29a3ff488125eb",
       "version_major": 2,
       "version_minor": 0
      },
      "text/plain": [
       "Calculating Metrics:   0%|          | 0/1 [00:00<?, ?it/s]"
      ]
     },
     "metadata": {},
     "output_type": "display_data"
    },
    {
     "data": {
      "application/vnd.jupyter.widget-view+json": {
       "model_id": "2bcbf0d8a6e64a2faea29681837d91cc",
       "version_major": 2,
       "version_minor": 0
      },
      "text/plain": [
       "Calculating Metrics:   0%|          | 0/5 [00:00<?, ?it/s]"
      ]
     },
     "metadata": {},
     "output_type": "display_data"
    },
    {
     "data": {
      "application/vnd.jupyter.widget-view+json": {
       "model_id": "a255d1b861964808960c3c047878fde8",
       "version_major": 2,
       "version_minor": 0
      },
      "text/plain": [
       "Calculating Metrics:   0%|          | 0/5 [00:00<?, ?it/s]"
      ]
     },
     "metadata": {},
     "output_type": "display_data"
    },
    {
     "data": {
      "application/vnd.jupyter.widget-view+json": {
       "model_id": "498b15b358c840f09f4c3543c12cdc86",
       "version_major": 2,
       "version_minor": 0
      },
      "text/plain": [
       "Calculating Metrics:   0%|          | 0/1 [00:00<?, ?it/s]"
      ]
     },
     "metadata": {},
     "output_type": "display_data"
    },
    {
     "data": {
      "application/vnd.jupyter.widget-view+json": {
       "model_id": "d3b7bd177d0d49558d19cc681904d2f9",
       "version_major": 2,
       "version_minor": 0
      },
      "text/plain": [
       "Calculating Metrics:   0%|          | 0/5 [00:00<?, ?it/s]"
      ]
     },
     "metadata": {},
     "output_type": "display_data"
    },
    {
     "data": {
      "application/vnd.jupyter.widget-view+json": {
       "model_id": "1f9f41d919b04d0e8216290be81b1fd6",
       "version_major": 2,
       "version_minor": 0
      },
      "text/plain": [
       "Calculating Metrics:   0%|          | 0/5 [00:00<?, ?it/s]"
      ]
     },
     "metadata": {},
     "output_type": "display_data"
    },
    {
     "data": {
      "application/vnd.jupyter.widget-view+json": {
       "model_id": "d8934552e23f444baa75f92d0fb6aff7",
       "version_major": 2,
       "version_minor": 0
      },
      "text/plain": [
       "Calculating Metrics:   0%|          | 0/1 [00:00<?, ?it/s]"
      ]
     },
     "metadata": {},
     "output_type": "display_data"
    },
    {
     "data": {
      "application/vnd.jupyter.widget-view+json": {
       "model_id": "8f4429c8e5ae4b4e816309bb9828a362",
       "version_major": 2,
       "version_minor": 0
      },
      "text/plain": [
       "Calculating Metrics:   0%|          | 0/5 [00:00<?, ?it/s]"
      ]
     },
     "metadata": {},
     "output_type": "display_data"
    },
    {
     "data": {
      "application/vnd.jupyter.widget-view+json": {
       "model_id": "f6322dffe0fa4637b39cacb91e974c56",
       "version_major": 2,
       "version_minor": 0
      },
      "text/plain": [
       "Calculating Metrics:   0%|          | 0/5 [00:00<?, ?it/s]"
      ]
     },
     "metadata": {},
     "output_type": "display_data"
    },
    {
     "data": {
      "application/vnd.jupyter.widget-view+json": {
       "model_id": "c1b7dcd5ed634abf9dff35071687d4c9",
       "version_major": 2,
       "version_minor": 0
      },
      "text/plain": [
       "Calculating Metrics:   0%|          | 0/1 [00:00<?, ?it/s]"
      ]
     },
     "metadata": {},
     "output_type": "display_data"
    },
    {
     "data": {
      "application/vnd.jupyter.widget-view+json": {
       "model_id": "f22ed16474854917ab6a616261a6149f",
       "version_major": 2,
       "version_minor": 0
      },
      "text/plain": [
       "Calculating Metrics:   0%|          | 0/5 [00:00<?, ?it/s]"
      ]
     },
     "metadata": {},
     "output_type": "display_data"
    },
    {
     "data": {
      "application/vnd.jupyter.widget-view+json": {
       "model_id": "9d1eb58503e645c1812a09f414055f5b",
       "version_major": 2,
       "version_minor": 0
      },
      "text/plain": [
       "Calculating Metrics:   0%|          | 0/5 [00:00<?, ?it/s]"
      ]
     },
     "metadata": {},
     "output_type": "display_data"
    },
    {
     "data": {
      "application/vnd.jupyter.widget-view+json": {
       "model_id": "aec991aa73bb47008e982ce82bad5f7b",
       "version_major": 2,
       "version_minor": 0
      },
      "text/plain": [
       "Calculating Metrics:   0%|          | 0/1 [00:00<?, ?it/s]"
      ]
     },
     "metadata": {},
     "output_type": "display_data"
    },
    {
     "data": {
      "application/vnd.jupyter.widget-view+json": {
       "model_id": "cc9d5320005c4fcca85666c9c6b34eca",
       "version_major": 2,
       "version_minor": 0
      },
      "text/plain": [
       "Calculating Metrics:   0%|          | 0/5 [00:00<?, ?it/s]"
      ]
     },
     "metadata": {},
     "output_type": "display_data"
    },
    {
     "data": {
      "application/vnd.jupyter.widget-view+json": {
       "model_id": "2a77bca36f1748bfa3135a76ceb057eb",
       "version_major": 2,
       "version_minor": 0
      },
      "text/plain": [
       "Calculating Metrics:   0%|          | 0/5 [00:00<?, ?it/s]"
      ]
     },
     "metadata": {},
     "output_type": "display_data"
    },
    {
     "data": {
      "application/vnd.jupyter.widget-view+json": {
       "model_id": "ac2b4c3c1a7047739bac162bd3c10144",
       "version_major": 2,
       "version_minor": 0
      },
      "text/plain": [
       "Calculating Metrics:   0%|          | 0/1 [00:00<?, ?it/s]"
      ]
     },
     "metadata": {},
     "output_type": "display_data"
    },
    {
     "data": {
      "application/vnd.jupyter.widget-view+json": {
       "model_id": "cc26e0fcb5df471d9374fc568c62ab4b",
       "version_major": 2,
       "version_minor": 0
      },
      "text/plain": [
       "Calculating Metrics:   0%|          | 0/5 [00:00<?, ?it/s]"
      ]
     },
     "metadata": {},
     "output_type": "display_data"
    },
    {
     "data": {
      "application/vnd.jupyter.widget-view+json": {
       "model_id": "ee4cbb3eeac14cbb878c2487f174791e",
       "version_major": 2,
       "version_minor": 0
      },
      "text/plain": [
       "Calculating Metrics:   0%|          | 0/5 [00:00<?, ?it/s]"
      ]
     },
     "metadata": {},
     "output_type": "display_data"
    },
    {
     "data": {
      "application/vnd.jupyter.widget-view+json": {
       "model_id": "fec54da8831a40f9a8f1988d3b2e2495",
       "version_major": 2,
       "version_minor": 0
      },
      "text/plain": [
       "Calculating Metrics:   0%|          | 0/1 [00:00<?, ?it/s]"
      ]
     },
     "metadata": {},
     "output_type": "display_data"
    },
    {
     "data": {
      "application/vnd.jupyter.widget-view+json": {
       "model_id": "c9f5c588577446a0acb496987b70bab1",
       "version_major": 2,
       "version_minor": 0
      },
      "text/plain": [
       "Calculating Metrics:   0%|          | 0/5 [00:00<?, ?it/s]"
      ]
     },
     "metadata": {},
     "output_type": "display_data"
    },
    {
     "data": {
      "application/vnd.jupyter.widget-view+json": {
       "model_id": "b5f99e6baf4243629df31572697bf62a",
       "version_major": 2,
       "version_minor": 0
      },
      "text/plain": [
       "Calculating Metrics:   0%|          | 0/5 [00:00<?, ?it/s]"
      ]
     },
     "metadata": {},
     "output_type": "display_data"
    },
    {
     "data": {
      "application/vnd.jupyter.widget-view+json": {
       "model_id": "6263e120807b4408a6761e8b7062f676",
       "version_major": 2,
       "version_minor": 0
      },
      "text/plain": [
       "Calculating Metrics:   0%|          | 0/1 [00:00<?, ?it/s]"
      ]
     },
     "metadata": {},
     "output_type": "display_data"
    },
    {
     "data": {
      "application/vnd.jupyter.widget-view+json": {
       "model_id": "f370dc30fe954a9ba029648054be7151",
       "version_major": 2,
       "version_minor": 0
      },
      "text/plain": [
       "Calculating Metrics:   0%|          | 0/5 [00:00<?, ?it/s]"
      ]
     },
     "metadata": {},
     "output_type": "display_data"
    },
    {
     "data": {
      "application/vnd.jupyter.widget-view+json": {
       "model_id": "60e612f5162b4e3caf6d71513aac030d",
       "version_major": 2,
       "version_minor": 0
      },
      "text/plain": [
       "Calculating Metrics:   0%|          | 0/5 [00:00<?, ?it/s]"
      ]
     },
     "metadata": {},
     "output_type": "display_data"
    },
    {
     "data": {
      "application/vnd.jupyter.widget-view+json": {
       "model_id": "748f0b2e671c4555bb8a82b2d7710f16",
       "version_major": 2,
       "version_minor": 0
      },
      "text/plain": [
       "Calculating Metrics:   0%|          | 0/1 [00:00<?, ?it/s]"
      ]
     },
     "metadata": {},
     "output_type": "display_data"
    },
    {
     "data": {
      "application/vnd.jupyter.widget-view+json": {
       "model_id": "10743a6ed6254c9a925adfd4efb46a6e",
       "version_major": 2,
       "version_minor": 0
      },
      "text/plain": [
       "Calculating Metrics:   0%|          | 0/5 [00:00<?, ?it/s]"
      ]
     },
     "metadata": {},
     "output_type": "display_data"
    },
    {
     "data": {
      "application/vnd.jupyter.widget-view+json": {
       "model_id": "5cda21e0406a48d986d30b9648de10cf",
       "version_major": 2,
       "version_minor": 0
      },
      "text/plain": [
       "Calculating Metrics:   0%|          | 0/5 [00:00<?, ?it/s]"
      ]
     },
     "metadata": {},
     "output_type": "display_data"
    },
    {
     "data": {
      "application/vnd.jupyter.widget-view+json": {
       "model_id": "e425ce3567cf4107bd2763e0a63863c7",
       "version_major": 2,
       "version_minor": 0
      },
      "text/plain": [
       "Calculating Metrics:   0%|          | 0/1 [00:00<?, ?it/s]"
      ]
     },
     "metadata": {},
     "output_type": "display_data"
    },
    {
     "data": {
      "application/vnd.jupyter.widget-view+json": {
       "model_id": "59b4e5a7c43246ffbcdf0f8b3a80c172",
       "version_major": 2,
       "version_minor": 0
      },
      "text/plain": [
       "Calculating Metrics:   0%|          | 0/5 [00:00<?, ?it/s]"
      ]
     },
     "metadata": {},
     "output_type": "display_data"
    },
    {
     "data": {
      "application/vnd.jupyter.widget-view+json": {
       "model_id": "3230d077ff224451861f2beeb09aa718",
       "version_major": 2,
       "version_minor": 0
      },
      "text/plain": [
       "Calculating Metrics:   0%|          | 0/5 [00:00<?, ?it/s]"
      ]
     },
     "metadata": {},
     "output_type": "display_data"
    },
    {
     "data": {
      "application/vnd.jupyter.widget-view+json": {
       "model_id": "289b40b707bb4526a64bb7a3cdf1e900",
       "version_major": 2,
       "version_minor": 0
      },
      "text/plain": [
       "Calculating Metrics:   0%|          | 0/1 [00:00<?, ?it/s]"
      ]
     },
     "metadata": {},
     "output_type": "display_data"
    },
    {
     "data": {
      "application/vnd.jupyter.widget-view+json": {
       "model_id": "8a09b078d5cd458099d06e895acca322",
       "version_major": 2,
       "version_minor": 0
      },
      "text/plain": [
       "Calculating Metrics:   0%|          | 0/5 [00:00<?, ?it/s]"
      ]
     },
     "metadata": {},
     "output_type": "display_data"
    },
    {
     "data": {
      "application/vnd.jupyter.widget-view+json": {
       "model_id": "7ff7bc5f08524f57898faffecebe7fcc",
       "version_major": 2,
       "version_minor": 0
      },
      "text/plain": [
       "Calculating Metrics:   0%|          | 0/5 [00:00<?, ?it/s]"
      ]
     },
     "metadata": {},
     "output_type": "display_data"
    },
    {
     "data": {
      "application/vnd.jupyter.widget-view+json": {
       "model_id": "2dab177be0704cf9a438e5761c805f5c",
       "version_major": 2,
       "version_minor": 0
      },
      "text/plain": [
       "Calculating Metrics:   0%|          | 0/1 [00:00<?, ?it/s]"
      ]
     },
     "metadata": {},
     "output_type": "display_data"
    },
    {
     "data": {
      "application/vnd.jupyter.widget-view+json": {
       "model_id": "3661126325ca4255a1946e850064abe2",
       "version_major": 2,
       "version_minor": 0
      },
      "text/plain": [
       "Calculating Metrics:   0%|          | 0/5 [00:00<?, ?it/s]"
      ]
     },
     "metadata": {},
     "output_type": "display_data"
    },
    {
     "data": {
      "application/vnd.jupyter.widget-view+json": {
       "model_id": "020e5106d56c49b580deec82a686b7a0",
       "version_major": 2,
       "version_minor": 0
      },
      "text/plain": [
       "Calculating Metrics:   0%|          | 0/5 [00:00<?, ?it/s]"
      ]
     },
     "metadata": {},
     "output_type": "display_data"
    },
    {
     "data": {
      "application/vnd.jupyter.widget-view+json": {
       "model_id": "20dac9f78ed949539c9cd4a0cea96988",
       "version_major": 2,
       "version_minor": 0
      },
      "text/plain": [
       "Calculating Metrics:   0%|          | 0/1 [00:00<?, ?it/s]"
      ]
     },
     "metadata": {},
     "output_type": "display_data"
    },
    {
     "data": {
      "application/vnd.jupyter.widget-view+json": {
       "model_id": "8ae969491b784b92ad763e6d654a07ea",
       "version_major": 2,
       "version_minor": 0
      },
      "text/plain": [
       "Calculating Metrics:   0%|          | 0/5 [00:00<?, ?it/s]"
      ]
     },
     "metadata": {},
     "output_type": "display_data"
    },
    {
     "data": {
      "application/vnd.jupyter.widget-view+json": {
       "model_id": "8bdf2b71d58640e7b391bc6ee8353150",
       "version_major": 2,
       "version_minor": 0
      },
      "text/plain": [
       "Calculating Metrics:   0%|          | 0/5 [00:00<?, ?it/s]"
      ]
     },
     "metadata": {},
     "output_type": "display_data"
    },
    {
     "data": {
      "application/vnd.jupyter.widget-view+json": {
       "model_id": "837aae27c30240e18c07a0155b691eb5",
       "version_major": 2,
       "version_minor": 0
      },
      "text/plain": [
       "Calculating Metrics:   0%|          | 0/1 [00:00<?, ?it/s]"
      ]
     },
     "metadata": {},
     "output_type": "display_data"
    },
    {
     "data": {
      "application/vnd.jupyter.widget-view+json": {
       "model_id": "7332330251574f4885858d92b6c9b0c4",
       "version_major": 2,
       "version_minor": 0
      },
      "text/plain": [
       "Calculating Metrics:   0%|          | 0/1 [00:00<?, ?it/s]"
      ]
     },
     "metadata": {},
     "output_type": "display_data"
    },
    {
     "data": {
      "application/vnd.jupyter.widget-view+json": {
       "model_id": "a1cfb49c253e4994a20c154d42e54c64",
       "version_major": 2,
       "version_minor": 0
      },
      "text/plain": [
       "Calculating Metrics:   0%|          | 0/5 [00:00<?, ?it/s]"
      ]
     },
     "metadata": {},
     "output_type": "display_data"
    },
    {
     "data": {
      "application/vnd.jupyter.widget-view+json": {
       "model_id": "4d3c5c0ffb7b479bb2bfaa0ae73aab32",
       "version_major": 2,
       "version_minor": 0
      },
      "text/plain": [
       "Calculating Metrics:   0%|          | 0/5 [00:00<?, ?it/s]"
      ]
     },
     "metadata": {},
     "output_type": "display_data"
    },
    {
     "data": {
      "application/vnd.jupyter.widget-view+json": {
       "model_id": "8baa20adec0b405ea072471af26e7d40",
       "version_major": 2,
       "version_minor": 0
      },
      "text/plain": [
       "Calculating Metrics:   0%|          | 0/1 [00:00<?, ?it/s]"
      ]
     },
     "metadata": {},
     "output_type": "display_data"
    },
    {
     "data": {
      "application/vnd.jupyter.widget-view+json": {
       "model_id": "ff575979d88343f58ead6c693c0d636c",
       "version_major": 2,
       "version_minor": 0
      },
      "text/plain": [
       "Calculating Metrics:   0%|          | 0/5 [00:00<?, ?it/s]"
      ]
     },
     "metadata": {},
     "output_type": "display_data"
    },
    {
     "data": {
      "application/vnd.jupyter.widget-view+json": {
       "model_id": "8eb241243a424358acb0483f398616ff",
       "version_major": 2,
       "version_minor": 0
      },
      "text/plain": [
       "Calculating Metrics:   0%|          | 0/5 [00:00<?, ?it/s]"
      ]
     },
     "metadata": {},
     "output_type": "display_data"
    },
    {
     "data": {
      "application/vnd.jupyter.widget-view+json": {
       "model_id": "a37376e048f9486bbf0fab0ea56cefd1",
       "version_major": 2,
       "version_minor": 0
      },
      "text/plain": [
       "Calculating Metrics:   0%|          | 0/1 [00:00<?, ?it/s]"
      ]
     },
     "metadata": {},
     "output_type": "display_data"
    },
    {
     "data": {
      "application/vnd.jupyter.widget-view+json": {
       "model_id": "e5a686e611d044fe91bc5cf629d927bc",
       "version_major": 2,
       "version_minor": 0
      },
      "text/plain": [
       "Calculating Metrics:   0%|          | 0/5 [00:00<?, ?it/s]"
      ]
     },
     "metadata": {},
     "output_type": "display_data"
    },
    {
     "data": {
      "application/vnd.jupyter.widget-view+json": {
       "model_id": "18610093c80944a5b1377e7b163b3def",
       "version_major": 2,
       "version_minor": 0
      },
      "text/plain": [
       "Calculating Metrics:   0%|          | 0/5 [00:00<?, ?it/s]"
      ]
     },
     "metadata": {},
     "output_type": "display_data"
    },
    {
     "data": {
      "application/vnd.jupyter.widget-view+json": {
       "model_id": "02f078fb070c4dd5b9038734815baeb4",
       "version_major": 2,
       "version_minor": 0
      },
      "text/plain": [
       "Calculating Metrics:   0%|          | 0/1 [00:00<?, ?it/s]"
      ]
     },
     "metadata": {},
     "output_type": "display_data"
    },
    {
     "data": {
      "application/vnd.jupyter.widget-view+json": {
       "model_id": "cadc493904e54a6d82b75af7e6126614",
       "version_major": 2,
       "version_minor": 0
      },
      "text/plain": [
       "Calculating Metrics:   0%|          | 0/5 [00:00<?, ?it/s]"
      ]
     },
     "metadata": {},
     "output_type": "display_data"
    },
    {
     "data": {
      "application/vnd.jupyter.widget-view+json": {
       "model_id": "6d5f6555916645ea930487fd70dd4508",
       "version_major": 2,
       "version_minor": 0
      },
      "text/plain": [
       "Calculating Metrics:   0%|          | 0/5 [00:00<?, ?it/s]"
      ]
     },
     "metadata": {},
     "output_type": "display_data"
    },
    {
     "data": {
      "application/vnd.jupyter.widget-view+json": {
       "model_id": "b257490dbae54a3f9b2cf6ec118bb13e",
       "version_major": 2,
       "version_minor": 0
      },
      "text/plain": [
       "Calculating Metrics:   0%|          | 0/1 [00:00<?, ?it/s]"
      ]
     },
     "metadata": {},
     "output_type": "display_data"
    },
    {
     "data": {
      "application/vnd.jupyter.widget-view+json": {
       "model_id": "09bbbfa295874966a0ba3889701af8e4",
       "version_major": 2,
       "version_minor": 0
      },
      "text/plain": [
       "Calculating Metrics:   0%|          | 0/5 [00:00<?, ?it/s]"
      ]
     },
     "metadata": {},
     "output_type": "display_data"
    },
    {
     "data": {
      "application/vnd.jupyter.widget-view+json": {
       "model_id": "a922d47f846a491c93ef3e5015a0fd3f",
       "version_major": 2,
       "version_minor": 0
      },
      "text/plain": [
       "Calculating Metrics:   0%|          | 0/5 [00:00<?, ?it/s]"
      ]
     },
     "metadata": {},
     "output_type": "display_data"
    },
    {
     "data": {
      "application/vnd.jupyter.widget-view+json": {
       "model_id": "dea4fa46297b46a4a5fe2ff86d6faeab",
       "version_major": 2,
       "version_minor": 0
      },
      "text/plain": [
       "Calculating Metrics:   0%|          | 0/1 [00:00<?, ?it/s]"
      ]
     },
     "metadata": {},
     "output_type": "display_data"
    },
    {
     "data": {
      "application/vnd.jupyter.widget-view+json": {
       "model_id": "e67f0df5dd9445b481d0d85096a01c07",
       "version_major": 2,
       "version_minor": 0
      },
      "text/plain": [
       "Calculating Metrics:   0%|          | 0/5 [00:00<?, ?it/s]"
      ]
     },
     "metadata": {},
     "output_type": "display_data"
    },
    {
     "data": {
      "application/vnd.jupyter.widget-view+json": {
       "model_id": "4dc15db43dd544d69ccf8261b5ef3c4e",
       "version_major": 2,
       "version_minor": 0
      },
      "text/plain": [
       "Calculating Metrics:   0%|          | 0/5 [00:00<?, ?it/s]"
      ]
     },
     "metadata": {},
     "output_type": "display_data"
    },
    {
     "data": {
      "application/vnd.jupyter.widget-view+json": {
       "model_id": "f65912e239ae446fb96da40d53545bdd",
       "version_major": 2,
       "version_minor": 0
      },
      "text/plain": [
       "Calculating Metrics:   0%|          | 0/1 [00:00<?, ?it/s]"
      ]
     },
     "metadata": {},
     "output_type": "display_data"
    },
    {
     "data": {
      "application/vnd.jupyter.widget-view+json": {
       "model_id": "a67fbc84de8049d6ba34af56e45cd5f0",
       "version_major": 2,
       "version_minor": 0
      },
      "text/plain": [
       "Calculating Metrics:   0%|          | 0/5 [00:00<?, ?it/s]"
      ]
     },
     "metadata": {},
     "output_type": "display_data"
    },
    {
     "data": {
      "application/vnd.jupyter.widget-view+json": {
       "model_id": "92000bbe648d41c4bd86e7d9cfd7ea83",
       "version_major": 2,
       "version_minor": 0
      },
      "text/plain": [
       "Calculating Metrics:   0%|          | 0/5 [00:00<?, ?it/s]"
      ]
     },
     "metadata": {},
     "output_type": "display_data"
    },
    {
     "data": {
      "application/vnd.jupyter.widget-view+json": {
       "model_id": "5b2aa7849d38474da59722225aa42c93",
       "version_major": 2,
       "version_minor": 0
      },
      "text/plain": [
       "Calculating Metrics:   0%|          | 0/1 [00:00<?, ?it/s]"
      ]
     },
     "metadata": {},
     "output_type": "display_data"
    },
    {
     "data": {
      "application/vnd.jupyter.widget-view+json": {
       "model_id": "44817fbe7c694cce9e3f462cef547a4e",
       "version_major": 2,
       "version_minor": 0
      },
      "text/plain": [
       "Calculating Metrics:   0%|          | 0/5 [00:00<?, ?it/s]"
      ]
     },
     "metadata": {},
     "output_type": "display_data"
    },
    {
     "data": {
      "application/vnd.jupyter.widget-view+json": {
       "model_id": "b657e00f833f4ef582a1922c91eeb15d",
       "version_major": 2,
       "version_minor": 0
      },
      "text/plain": [
       "Calculating Metrics:   0%|          | 0/5 [00:00<?, ?it/s]"
      ]
     },
     "metadata": {},
     "output_type": "display_data"
    },
    {
     "data": {
      "application/vnd.jupyter.widget-view+json": {
       "model_id": "7828b72c43d44cccafc64fc1aaa41092",
       "version_major": 2,
       "version_minor": 0
      },
      "text/plain": [
       "Calculating Metrics:   0%|          | 0/1 [00:00<?, ?it/s]"
      ]
     },
     "metadata": {},
     "output_type": "display_data"
    },
    {
     "data": {
      "application/vnd.jupyter.widget-view+json": {
       "model_id": "4c5c6898a79a49d5a388025b1d24f302",
       "version_major": 2,
       "version_minor": 0
      },
      "text/plain": [
       "Calculating Metrics:   0%|          | 0/5 [00:00<?, ?it/s]"
      ]
     },
     "metadata": {},
     "output_type": "display_data"
    }
   ],
   "source": [
    "# Creating an Expectation Suite with the Missingness Data Assistant\n",
    "data_assistant_result = context.assistants.missingness.run(validator=validator)"
   ]
  },
  {
   "cell_type": "code",
   "execution_count": 9,
   "id": "802d600e",
   "metadata": {},
   "outputs": [
    {
     "name": "stdout",
     "output_type": "stream",
     "text": [
      "[ { 'expect_column_values_to_be_null': { 'column': 'lapop10',\n",
      "                                         'domain': 'column',\n",
      "                                         'mostly': 0.8929285408997532}},\n",
      "  { 'expect_column_values_to_be_null': { 'column': 'lapop10share',\n",
      "                                         'domain': 'column',\n",
      "                                         'mostly': 0.8929285408997532}},\n",
      "  { 'expect_column_values_to_be_null': { 'column': 'lalowi10',\n",
      "                                         'domain': 'column',\n",
      "                                         'mostly': 0.8929285408997532}},\n",
      "  { 'expect_column_values_to_be_null': { 'column': 'lalowi10share',\n",
      "                                         'domain': 'column',\n",
      "                                         'mostly': 0.8929285408997532}},\n",
      "  { 'expect_column_values_to_be_null': { 'column': 'lakids10',\n",
      "                                         'domain': 'column',\n",
      "                                         'mostly': 0.8929285408997532}},\n",
      "  { 'expect_column_values_to_be_null': { 'column': 'lakids10share',\n",
      "                                         'domain': 'column',\n",
      "                                         'mostly': 0.8929285408997532}},\n",
      "  { 'expect_column_values_to_be_null': { 'column': 'laseniors10',\n",
      "                                         'domain': 'column',\n",
      "                                         'mostly': 0.8929285408997532}},\n",
      "  { 'expect_column_values_to_be_null': { 'column': 'laseniors10share',\n",
      "                                         'domain': 'column',\n",
      "                                         'mostly': 0.8929285408997532}},\n",
      "  { 'expect_column_values_to_be_null': { 'column': 'lawhite10',\n",
      "                                         'domain': 'column',\n",
      "                                         'mostly': 0.8929285408997532}},\n",
      "  { 'expect_column_values_to_be_null': { 'column': 'lawhite10share',\n",
      "                                         'domain': 'column',\n",
      "                                         'mostly': 0.8929285408997532}},\n",
      "  { 'expect_column_values_to_be_null': { 'column': 'lablack10',\n",
      "                                         'domain': 'column',\n",
      "                                         'mostly': 0.8929285408997532}},\n",
      "  { 'expect_column_values_to_be_null': { 'column': 'lablack10share',\n",
      "                                         'domain': 'column',\n",
      "                                         'mostly': 0.8929285408997532}},\n",
      "  { 'expect_column_values_to_be_null': { 'column': 'laasian10',\n",
      "                                         'domain': 'column',\n",
      "                                         'mostly': 0.8929285408997532}},\n",
      "  { 'expect_column_values_to_be_null': { 'column': 'laasian10share',\n",
      "                                         'domain': 'column',\n",
      "                                         'mostly': 0.8929285408997532}},\n",
      "  { 'expect_column_values_to_be_null': { 'column': 'lanhopi10',\n",
      "                                         'domain': 'column',\n",
      "                                         'mostly': 0.8929285408997532}},\n",
      "  { 'expect_column_values_to_be_null': { 'column': 'lanhopi10share',\n",
      "                                         'domain': 'column',\n",
      "                                         'mostly': 0.8929285408997532}},\n",
      "  { 'expect_column_values_to_be_null': { 'column': 'laaian10',\n",
      "                                         'domain': 'column',\n",
      "                                         'mostly': 0.8929285408997532}},\n",
      "  { 'expect_column_values_to_be_null': { 'column': 'laaian10share',\n",
      "                                         'domain': 'column',\n",
      "                                         'mostly': 0.8929285408997532}},\n",
      "  { 'expect_column_values_to_be_null': { 'column': 'laomultir10',\n",
      "                                         'domain': 'column',\n",
      "                                         'mostly': 0.8929285408997532}},\n",
      "  { 'expect_column_values_to_be_null': { 'column': 'laomultir10share',\n",
      "                                         'domain': 'column',\n",
      "                                         'mostly': 0.8929285408997532}},\n",
      "  { 'expect_column_values_to_be_null': { 'column': 'lahisp10',\n",
      "                                         'domain': 'column',\n",
      "                                         'mostly': 0.8929285408997532}},\n",
      "  { 'expect_column_values_to_be_null': { 'column': 'lahisp10share',\n",
      "                                         'domain': 'column',\n",
      "                                         'mostly': 0.8929285408997532}},\n",
      "  { 'expect_column_values_to_be_null': { 'column': 'lahunv10',\n",
      "                                         'domain': 'column',\n",
      "                                         'mostly': 0.8929285408997532}},\n",
      "  { 'expect_column_values_to_be_null': { 'column': 'lahunv10share',\n",
      "                                         'domain': 'column',\n",
      "                                         'mostly': 0.8915636072851608}},\n",
      "  { 'expect_column_values_to_be_null': { 'column': 'lasnap10',\n",
      "                                         'domain': 'column',\n",
      "                                         'mostly': 0.8929285408997532}},\n",
      "  { 'expect_column_values_to_be_null': { 'column': 'lasnap10share',\n",
      "                                         'domain': 'column',\n",
      "                                         'mostly': 0.8915636072851608}},\n",
      "  { 'expect_column_values_to_be_null': { 'column': 'lapop20',\n",
      "                                         'domain': 'column',\n",
      "                                         'mostly': 0.975}},\n",
      "  { 'expect_column_values_to_be_null': { 'column': 'lapop20share',\n",
      "                                         'domain': 'column',\n",
      "                                         'mostly': 0.975}},\n",
      "  { 'expect_column_values_to_be_null': { 'column': 'lalowi20',\n",
      "                                         'domain': 'column',\n",
      "                                         'mostly': 0.975}},\n",
      "  { 'expect_column_values_to_be_null': { 'column': 'lalowi20share',\n",
      "                                         'domain': 'column',\n",
      "                                         'mostly': 0.975}},\n",
      "  { 'expect_column_values_to_be_null': { 'column': 'lakids20',\n",
      "                                         'domain': 'column',\n",
      "                                         'mostly': 0.975}},\n",
      "  { 'expect_column_values_to_be_null': { 'column': 'lakids20share',\n",
      "                                         'domain': 'column',\n",
      "                                         'mostly': 0.975}},\n",
      "  { 'expect_column_values_to_be_null': { 'column': 'laseniors20',\n",
      "                                         'domain': 'column',\n",
      "                                         'mostly': 0.975}},\n",
      "  { 'expect_column_values_to_be_null': { 'column': 'laseniors20share',\n",
      "                                         'domain': 'column',\n",
      "                                         'mostly': 0.975}},\n",
      "  { 'expect_column_values_to_be_null': { 'column': 'lawhite20',\n",
      "                                         'domain': 'column',\n",
      "                                         'mostly': 0.975}},\n",
      "  { 'expect_column_values_to_be_null': { 'column': 'lawhite20share',\n",
      "                                         'domain': 'column',\n",
      "                                         'mostly': 0.975}},\n",
      "  { 'expect_column_values_to_be_null': { 'column': 'lablack20',\n",
      "                                         'domain': 'column',\n",
      "                                         'mostly': 0.975}},\n",
      "  { 'expect_column_values_to_be_null': { 'column': 'lablack20share',\n",
      "                                         'domain': 'column',\n",
      "                                         'mostly': 0.975}},\n",
      "  { 'expect_column_values_to_be_null': { 'column': 'laasian20',\n",
      "                                         'domain': 'column',\n",
      "                                         'mostly': 0.975}},\n",
      "  { 'expect_column_values_to_be_null': { 'column': 'laasian20share',\n",
      "                                         'domain': 'column',\n",
      "                                         'mostly': 0.975}},\n",
      "  { 'expect_column_values_to_be_null': { 'column': 'lanhopi20',\n",
      "                                         'domain': 'column',\n",
      "                                         'mostly': 0.975}},\n",
      "  { 'expect_column_values_to_be_null': { 'column': 'lanhopi20share',\n",
      "                                         'domain': 'column',\n",
      "                                         'mostly': 0.975}},\n",
      "  { 'expect_column_values_to_be_null': { 'column': 'laaian20',\n",
      "                                         'domain': 'column',\n",
      "                                         'mostly': 0.975}},\n",
      "  { 'expect_column_values_to_be_null': { 'column': 'laaian20share',\n",
      "                                         'domain': 'column',\n",
      "                                         'mostly': 0.975}},\n",
      "  { 'expect_column_values_to_be_null': { 'column': 'laomultir20',\n",
      "                                         'domain': 'column',\n",
      "                                         'mostly': 0.975}},\n",
      "  { 'expect_column_values_to_be_null': { 'column': 'laomultir20share',\n",
      "                                         'domain': 'column',\n",
      "                                         'mostly': 0.975}},\n",
      "  { 'expect_column_values_to_be_null': { 'column': 'lahisp20',\n",
      "                                         'domain': 'column',\n",
      "                                         'mostly': 0.975}},\n",
      "  { 'expect_column_values_to_be_null': { 'column': 'lahisp20share',\n",
      "                                         'domain': 'column',\n",
      "                                         'mostly': 0.975}},\n",
      "  { 'expect_column_values_to_be_null': { 'column': 'lahunv20',\n",
      "                                         'domain': 'column',\n",
      "                                         'mostly': 0.975}},\n",
      "  { 'expect_column_values_to_be_null': { 'column': 'lahunv20share',\n",
      "                                         'domain': 'column',\n",
      "                                         'mostly': 0.975}},\n",
      "  { 'expect_column_values_to_be_null': { 'column': 'lasnap20',\n",
      "                                         'domain': 'column',\n",
      "                                         'mostly': 0.975}},\n",
      "  { 'expect_column_values_to_be_null': { 'column': 'lasnap20share',\n",
      "                                         'domain': 'column',\n",
      "                                         'mostly': 0.975}},\n",
      "  { 'expect_column_values_to_not_be_null': { 'column': 'CensusTract',\n",
      "                                             'domain': 'column',\n",
      "                                             'mostly': 1.0}},\n",
      "  { 'expect_column_values_to_not_be_null': { 'column': 'State',\n",
      "                                             'domain': 'column',\n",
      "                                             'mostly': 1.0}},\n",
      "  { 'expect_column_values_to_not_be_null': { 'column': 'County',\n",
      "                                             'domain': 'column',\n",
      "                                             'mostly': 1.0}},\n",
      "  { 'expect_column_values_to_not_be_null': { 'column': 'Urban',\n",
      "                                             'domain': 'column',\n",
      "                                             'mostly': 1.0}},\n",
      "  { 'expect_column_values_to_not_be_null': { 'column': 'Pop2010',\n",
      "                                             'domain': 'column',\n",
      "                                             'mostly': 1.0}},\n",
      "  { 'expect_column_values_to_not_be_null': { 'column': 'OHU2010',\n",
      "                                             'domain': 'column',\n",
      "                                             'mostly': 1.0}},\n",
      "  { 'expect_column_values_to_not_be_null': { 'column': 'GroupQuartersFlag',\n",
      "                                             'domain': 'column',\n",
      "                                             'mostly': 1.0}},\n",
      "  { 'expect_column_values_to_not_be_null': { 'column': 'NUMGQTRS',\n",
      "                                             'domain': 'column',\n",
      "                                             'mostly': 0.99}},\n",
      "  { 'expect_column_values_to_not_be_null': { 'column': 'PCTGQTRS',\n",
      "                                             'domain': 'column',\n",
      "                                             'mostly': 0.99}},\n",
      "  { 'expect_column_values_to_not_be_null': { 'column': 'LILATracts_1And10',\n",
      "                                             'domain': 'column',\n",
      "                                             'mostly': 1.0}},\n",
      "  { 'expect_column_values_to_not_be_null': { 'column': 'LILATracts_halfAnd10',\n",
      "                                             'domain': 'column',\n",
      "                                             'mostly': 1.0}},\n",
      "  { 'expect_column_values_to_not_be_null': { 'column': 'LILATracts_1And20',\n",
      "                                             'domain': 'column',\n",
      "                                             'mostly': 1.0}},\n",
      "  { 'expect_column_values_to_not_be_null': { 'column': 'LILATracts_Vehicle',\n",
      "                                             'domain': 'column',\n",
      "                                             'mostly': 1.0}},\n",
      "  { 'expect_column_values_to_not_be_null': { 'column': 'HUNVFlag',\n",
      "                                             'domain': 'column',\n",
      "                                             'mostly': 1.0}},\n",
      "  { 'expect_column_values_to_not_be_null': { 'column': 'LowIncomeTracts',\n",
      "                                             'domain': 'column',\n",
      "                                             'mostly': 1.0}},\n",
      "  { 'expect_column_values_to_not_be_null': { 'column': 'PovertyRate',\n",
      "                                             'domain': 'column',\n",
      "                                             'mostly': 0.99}},\n",
      "  { 'expect_column_values_to_not_be_null': { 'column': 'MedianFamilyIncome',\n",
      "                                             'domain': 'column',\n",
      "                                             'mostly': 0.975}},\n",
      "  { 'expect_column_values_to_not_be_null': { 'column': 'LA1and10',\n",
      "                                             'domain': 'column',\n",
      "                                             'mostly': 1.0}},\n",
      "  { 'expect_column_values_to_not_be_null': { 'column': 'LAhalfand10',\n",
      "                                             'domain': 'column',\n",
      "                                             'mostly': 1.0}},\n",
      "  { 'expect_column_values_to_not_be_null': { 'column': 'LA1and20',\n",
      "                                             'domain': 'column',\n",
      "                                             'mostly': 1.0}},\n",
      "  { 'expect_column_values_to_not_be_null': { 'column': 'LATracts_half',\n",
      "                                             'domain': 'column',\n",
      "                                             'mostly': 1.0}},\n",
      "  { 'expect_column_values_to_not_be_null': { 'column': 'LATracts1',\n",
      "                                             'domain': 'column',\n",
      "                                             'mostly': 1.0}},\n",
      "  { 'expect_column_values_to_not_be_null': { 'column': 'LATracts10',\n",
      "                                             'domain': 'column',\n",
      "                                             'mostly': 1.0}},\n",
      "  { 'expect_column_values_to_not_be_null': { 'column': 'LATracts20',\n",
      "                                             'domain': 'column',\n",
      "                                             'mostly': 1.0}},\n",
      "  { 'expect_column_values_to_not_be_null': { 'column': 'LATractsVehicle_20',\n",
      "                                             'domain': 'column',\n",
      "                                             'mostly': 1.0}},\n",
      "  { 'expect_column_values_to_not_be_null': { 'column': 'LAPOP1_10',\n",
      "                                             'domain': 'column',\n",
      "                                             'mostly': 0.575}},\n",
      "  { 'expect_column_values_to_not_be_null': { 'column': 'LAPOP05_10',\n",
      "                                             'domain': 'column',\n",
      "                                             'mostly': 0.775}},\n",
      "  { 'expect_column_values_to_not_be_null': { 'column': 'LAPOP1_20',\n",
      "                                             'domain': 'column',\n",
      "                                             'mostly': 0.5}},\n",
      "  { 'expect_column_values_to_not_be_null': { 'column': 'LALOWI1_10',\n",
      "                                             'domain': 'column',\n",
      "                                             'mostly': 0.575}},\n",
      "  { 'expect_column_values_to_not_be_null': { 'column': 'LALOWI05_10',\n",
      "                                             'domain': 'column',\n",
      "                                             'mostly': 0.775}},\n",
      "  { 'expect_column_values_to_not_be_null': { 'column': 'LALOWI1_20',\n",
      "                                             'domain': 'column',\n",
      "                                             'mostly': 0.5}},\n",
      "  { 'expect_column_values_to_not_be_null': { 'column': 'lapophalf',\n",
      "                                             'domain': 'column',\n",
      "                                             'mostly': 0.925}},\n",
      "  { 'expect_column_values_to_not_be_null': { 'column': 'lapophalfshare',\n",
      "                                             'domain': 'column',\n",
      "                                             'mostly': 0.925}},\n",
      "  { 'expect_column_values_to_not_be_null': { 'column': 'lalowihalf',\n",
      "                                             'domain': 'column',\n",
      "                                             'mostly': 0.925}},\n",
      "  { 'expect_column_values_to_not_be_null': { 'column': 'lalowihalfshare',\n",
      "                                             'domain': 'column',\n",
      "                                             'mostly': 0.925}},\n",
      "  { 'expect_column_values_to_not_be_null': { 'column': 'lakidshalf',\n",
      "                                             'domain': 'column',\n",
      "                                             'mostly': 0.925}},\n",
      "  { 'expect_column_values_to_not_be_null': { 'column': 'lakidshalfshare',\n",
      "                                             'domain': 'column',\n",
      "                                             'mostly': 0.925}},\n",
      "  { 'expect_column_values_to_not_be_null': { 'column': 'laseniorshalf',\n",
      "                                             'domain': 'column',\n",
      "                                             'mostly': 0.925}},\n",
      "  { 'expect_column_values_to_not_be_null': { 'column': 'laseniorshalfshare',\n",
      "                                             'domain': 'column',\n",
      "                                             'mostly': 0.925}},\n",
      "  { 'expect_column_values_to_not_be_null': { 'column': 'lawhitehalf',\n",
      "                                             'domain': 'column',\n",
      "                                             'mostly': 0.925}},\n",
      "  { 'expect_column_values_to_not_be_null': { 'column': 'lawhitehalfshare',\n",
      "                                             'domain': 'column',\n",
      "                                             'mostly': 0.925}},\n",
      "  { 'expect_column_values_to_not_be_null': { 'column': 'lablackhalf',\n",
      "                                             'domain': 'column',\n",
      "                                             'mostly': 0.925}},\n",
      "  { 'expect_column_values_to_not_be_null': { 'column': 'lablackhalfshare',\n",
      "                                             'domain': 'column',\n",
      "                                             'mostly': 0.925}},\n",
      "  { 'expect_column_values_to_not_be_null': { 'column': 'laasianhalf',\n",
      "                                             'domain': 'column',\n",
      "                                             'mostly': 0.925}},\n",
      "  { 'expect_column_values_to_not_be_null': { 'column': 'laasianhalfshare',\n",
      "                                             'domain': 'column',\n",
      "                                             'mostly': 0.925}},\n",
      "  { 'expect_column_values_to_not_be_null': { 'column': 'lanhopihalf',\n",
      "                                             'domain': 'column',\n",
      "                                             'mostly': 0.925}},\n",
      "  { 'expect_column_values_to_not_be_null': { 'column': 'lanhopihalfshare',\n",
      "                                             'domain': 'column',\n",
      "                                             'mostly': 0.925}},\n",
      "  { 'expect_column_values_to_not_be_null': { 'column': 'laaianhalf',\n",
      "                                             'domain': 'column',\n",
      "                                             'mostly': 0.925}},\n",
      "  { 'expect_column_values_to_not_be_null': { 'column': 'laaianhalfshare',\n",
      "                                             'domain': 'column',\n",
      "                                             'mostly': 0.925}},\n",
      "  { 'expect_column_values_to_not_be_null': { 'column': 'laomultirhalf',\n",
      "                                             'domain': 'column',\n",
      "                                             'mostly': 0.925}},\n",
      "  { 'expect_column_values_to_not_be_null': { 'column': 'laomultirhalfshare',\n",
      "                                             'domain': 'column',\n",
      "                                             'mostly': 0.925}},\n",
      "  { 'expect_column_values_to_not_be_null': { 'column': 'lahisphalf',\n",
      "                                             'domain': 'column',\n",
      "                                             'mostly': 0.925}},\n",
      "  { 'expect_column_values_to_not_be_null': { 'column': 'lahisphalfshare',\n",
      "                                             'domain': 'column',\n",
      "                                             'mostly': 0.925}},\n",
      "  { 'expect_column_values_to_not_be_null': { 'column': 'lahunvhalf',\n",
      "                                             'domain': 'column',\n",
      "                                             'mostly': 0.925}},\n",
      "  { 'expect_column_values_to_not_be_null': { 'column': 'lahunvhalfshare',\n",
      "                                             'domain': 'column',\n",
      "                                             'mostly': 0.925}},\n",
      "  { 'expect_column_values_to_not_be_null': { 'column': 'lasnaphalf',\n",
      "                                             'domain': 'column',\n",
      "                                             'mostly': 0.925}},\n",
      "  { 'expect_column_values_to_not_be_null': { 'column': 'lasnaphalfshare',\n",
      "                                             'domain': 'column',\n",
      "                                             'mostly': 0.925}},\n",
      "  { 'expect_column_values_to_not_be_null': { 'column': 'lapop1',\n",
      "                                             'domain': 'column',\n",
      "                                             'mostly': 0.7}},\n",
      "  { 'expect_column_values_to_not_be_null': { 'column': 'lapop1share',\n",
      "                                             'domain': 'column',\n",
      "                                             'mostly': 0.7}},\n",
      "  { 'expect_column_values_to_not_be_null': { 'column': 'lalowi1',\n",
      "                                             'domain': 'column',\n",
      "                                             'mostly': 0.7}},\n",
      "  { 'expect_column_values_to_not_be_null': { 'column': 'lalowi1share',\n",
      "                                             'domain': 'column',\n",
      "                                             'mostly': 0.7}},\n",
      "  { 'expect_column_values_to_not_be_null': { 'column': 'lakids1',\n",
      "                                             'domain': 'column',\n",
      "                                             'mostly': 0.7}},\n",
      "  { 'expect_column_values_to_not_be_null': { 'column': 'lakids1share',\n",
      "                                             'domain': 'column',\n",
      "                                             'mostly': 0.7}},\n",
      "  { 'expect_column_values_to_not_be_null': { 'column': 'laseniors1',\n",
      "                                             'domain': 'column',\n",
      "                                             'mostly': 0.7}},\n",
      "  { 'expect_column_values_to_not_be_null': { 'column': 'laseniors1share',\n",
      "                                             'domain': 'column',\n",
      "                                             'mostly': 0.7}},\n",
      "  { 'expect_column_values_to_not_be_null': { 'column': 'lawhite1',\n",
      "                                             'domain': 'column',\n",
      "                                             'mostly': 0.7}},\n",
      "  { 'expect_column_values_to_not_be_null': { 'column': 'lawhite1share',\n",
      "                                             'domain': 'column',\n",
      "                                             'mostly': 0.7}},\n",
      "  { 'expect_column_values_to_not_be_null': { 'column': 'lablack1',\n",
      "                                             'domain': 'column',\n",
      "                                             'mostly': 0.7}},\n",
      "  { 'expect_column_values_to_not_be_null': { 'column': 'lablack1share',\n",
      "                                             'domain': 'column',\n",
      "                                             'mostly': 0.7}},\n",
      "  { 'expect_column_values_to_not_be_null': { 'column': 'laasian1',\n",
      "                                             'domain': 'column',\n",
      "                                             'mostly': 0.7}},\n",
      "  { 'expect_column_values_to_not_be_null': { 'column': 'laasian1share',\n",
      "                                             'domain': 'column',\n",
      "                                             'mostly': 0.7}},\n",
      "  { 'expect_column_values_to_not_be_null': { 'column': 'lanhopi1',\n",
      "                                             'domain': 'column',\n",
      "                                             'mostly': 0.7}},\n",
      "  { 'expect_column_values_to_not_be_null': { 'column': 'lanhopi1share',\n",
      "                                             'domain': 'column',\n",
      "                                             'mostly': 0.7}},\n",
      "  { 'expect_column_values_to_not_be_null': { 'column': 'laaian1',\n",
      "                                             'domain': 'column',\n",
      "                                             'mostly': 0.7}},\n",
      "  { 'expect_column_values_to_not_be_null': { 'column': 'laaian1share',\n",
      "                                             'domain': 'column',\n",
      "                                             'mostly': 0.7}},\n",
      "  { 'expect_column_values_to_not_be_null': { 'column': 'laomultir1',\n",
      "                                             'domain': 'column',\n",
      "                                             'mostly': 0.7}},\n",
      "  { 'expect_column_values_to_not_be_null': { 'column': 'laomultir1share',\n",
      "                                             'domain': 'column',\n",
      "                                             'mostly': 0.7}},\n",
      "  { 'expect_column_values_to_not_be_null': { 'column': 'lahisp1',\n",
      "                                             'domain': 'column',\n",
      "                                             'mostly': 0.7}},\n",
      "  { 'expect_column_values_to_not_be_null': { 'column': 'lahisp1share',\n",
      "                                             'domain': 'column',\n",
      "                                             'mostly': 0.7}},\n",
      "  { 'expect_column_values_to_not_be_null': { 'column': 'lahunv1',\n",
      "                                             'domain': 'column',\n",
      "                                             'mostly': 0.7}},\n",
      "  { 'expect_column_values_to_not_be_null': { 'column': 'lahunv1share',\n",
      "                                             'domain': 'column',\n",
      "                                             'mostly': 0.7}},\n",
      "  { 'expect_column_values_to_not_be_null': { 'column': 'lasnap1',\n",
      "                                             'domain': 'column',\n",
      "                                             'mostly': 0.7}},\n",
      "  { 'expect_column_values_to_not_be_null': { 'column': 'lasnap1share',\n",
      "                                             'domain': 'column',\n",
      "                                             'mostly': 0.7}},\n",
      "  { 'expect_column_values_to_not_be_null': { 'column': 'TractLOWI',\n",
      "                                             'domain': 'column',\n",
      "                                             'mostly': 0.99}},\n",
      "  { 'expect_column_values_to_not_be_null': { 'column': 'TractKids',\n",
      "                                             'domain': 'column',\n",
      "                                             'mostly': 0.99}},\n",
      "  { 'expect_column_values_to_not_be_null': { 'column': 'TractSeniors',\n",
      "                                             'domain': 'column',\n",
      "                                             'mostly': 0.99}},\n",
      "  { 'expect_column_values_to_not_be_null': { 'column': 'TractWhite',\n",
      "                                             'domain': 'column',\n",
      "                                             'mostly': 0.99}},\n",
      "  { 'expect_column_values_to_not_be_null': { 'column': 'TractBlack',\n",
      "                                             'domain': 'column',\n",
      "                                             'mostly': 0.99}},\n",
      "  { 'expect_column_values_to_not_be_null': { 'column': 'TractAsian',\n",
      "                                             'domain': 'column',\n",
      "                                             'mostly': 0.99}},\n",
      "  { 'expect_column_values_to_not_be_null': { 'column': 'TractNHOPI',\n",
      "                                             'domain': 'column',\n",
      "                                             'mostly': 0.99}},\n",
      "  { 'expect_column_values_to_not_be_null': { 'column': 'TractAIAN',\n",
      "                                             'domain': 'column',\n",
      "                                             'mostly': 0.99}},\n",
      "  { 'expect_column_values_to_not_be_null': { 'column': 'TractOMultir',\n",
      "                                             'domain': 'column',\n",
      "                                             'mostly': 0.99}},\n",
      "  { 'expect_column_values_to_not_be_null': { 'column': 'TractHispanic',\n",
      "                                             'domain': 'column',\n",
      "                                             'mostly': 0.99}},\n",
      "  { 'expect_column_values_to_not_be_null': { 'column': 'TractHUNV',\n",
      "                                             'domain': 'column',\n",
      "                                             'mostly': 0.99}},\n",
      "  { 'expect_column_values_to_not_be_null': { 'column': 'TractSNAP',\n",
      "                                             'domain': 'column',\n",
      "                                             'mostly': 0.99}}]\n"
     ]
    }
   ],
   "source": [
    "# Showing the Expectations produced and grouped by Expectation type\n",
    "data_assistant_result.show_expectations_by_expectation_type()"
   ]
  },
  {
   "cell_type": "code",
   "execution_count": 10,
   "id": "547d95a1",
   "metadata": {},
   "outputs": [],
   "source": [
    "# Saving the Expectation Suite\n",
    "validator.expectation_suite = data_assistant_result.get_expectation_suite(\n",
    "    expectation_suite_name=\"my_expectation_suite\"\n",
    ")\n",
    "validator.save_expectation_suite(discard_failed_expectations=False)"
   ]
  },
  {
   "cell_type": "code",
   "execution_count": 11,
   "id": "3909fcb2",
   "metadata": {},
   "outputs": [
    {
     "data": {
      "application/vnd.jupyter.widget-view+json": {
       "model_id": "4a6b789be37e413dad891f11551c1b55",
       "version_major": 2,
       "version_minor": 0
      },
      "text/plain": [
       "Calculating Metrics:   0%|          | 0/738 [00:00<?, ?it/s]"
      ]
     },
     "metadata": {},
     "output_type": "display_data"
    }
   ],
   "source": [
    "# Testing the Expectation Suite\n",
    "checkpoint = context.add_or_update_checkpoint(\n",
    "    name=\"setup_checkpoint\",\n",
    "    validator=validator,\n",
    ")\n",
    "checkpoint_result = checkpoint.run()"
   ]
  },
  {
   "cell_type": "code",
   "execution_count": 12,
   "id": "19e82f53",
   "metadata": {},
   "outputs": [],
   "source": [
    "# Viewing an HTML representation of the Validation Results\n",
    "context.view_validation_result(checkpoint_result)"
   ]
  },
  {
   "cell_type": "markdown",
   "id": "170d2849",
   "metadata": {},
   "source": [
    "## [Validating](https://docs.greatexpectations.io/docs/oss/guides/validation/checkpoints/how_to_pass_an_in_memory_dataframe_to_a_checkpoint) new data"
   ]
  },
  {
   "cell_type": "code",
   "execution_count": null,
   "id": "549add74",
   "metadata": {},
   "outputs": [],
   "source": [
    "# Creating a new Data Context\n",
    "#new_context = gx.get_context()"
   ]
  },
  {
   "cell_type": "code",
   "execution_count": 13,
   "id": "ba3a148c",
   "metadata": {},
   "outputs": [],
   "source": [
    "# Creating a new Data Source\n",
    "new_datasource = context.sources.add_pandas(name=\"my_new_pandas_datasource\")"
   ]
  },
  {
   "cell_type": "code",
   "execution_count": 14,
   "id": "b78776c6",
   "metadata": {},
   "outputs": [],
   "source": [
    "# Connecting to in-memory data by reading data into a new Pandas DataFrame\n",
    "new_dataframe = pd.read_csv(\"Data/FoodAccessResearchAtlasData2015.csv\")"
   ]
  },
  {
   "cell_type": "code",
   "execution_count": 15,
   "id": "074df19e",
   "metadata": {},
   "outputs": [],
   "source": [
    "# Adding a new Data Asset to the new Data Source\n",
    "new_name = \"new_food_access_dataframe\"\n",
    "new_data_asset = new_datasource.add_dataframe_asset(name=new_name)\n",
    "my_new_batch_request = new_data_asset.build_batch_request(dataframe=new_dataframe)"
   ]
  },
  {
   "cell_type": "code",
   "execution_count": 17,
   "id": "08353cf0",
   "metadata": {},
   "outputs": [],
   "source": [
    "# Creating a new Validator\n",
    "new_validator = context.get_validator(\n",
    "    batch_request=my_new_batch_request,\n",
    "    expectation_suite_name=\"my_expectation_suite\",\n",
    ")\n",
    "new_validator.save_expectation_suite()"
   ]
  },
  {
   "cell_type": "code",
   "execution_count": 19,
   "id": "7afc93e0",
   "metadata": {},
   "outputs": [
    {
     "data": {
      "application/vnd.jupyter.widget-view+json": {
       "model_id": "77a139b673114b6580638e4eb2c7047c",
       "version_major": 2,
       "version_minor": 0
      },
      "text/plain": [
       "Calculating Metrics:   0%|          | 0/738 [00:00<?, ?it/s]"
      ]
     },
     "metadata": {},
     "output_type": "display_data"
    }
   ],
   "source": [
    "# Creating a new Checkpoint to validate the new Data Source\n",
    "new_checkpoint = context.add_or_update_checkpoint(\n",
    "    name=\"validating_checkpoint\",\n",
    "    validator=new_validator,\n",
    ")\n",
    "new_checkpoint_result = new_checkpoint.run()"
   ]
  },
  {
   "cell_type": "code",
   "execution_count": 21,
   "id": "a18fd9b5",
   "metadata": {},
   "outputs": [],
   "source": [
    "# Viewing an HTML representation of the new Validation Results\n",
    "context.view_validation_result(new_checkpoint_result)"
   ]
  }
 ],
 "metadata": {
  "kernelspec": {
   "display_name": "Python 3 (ipykernel)",
   "language": "python",
   "name": "python3"
  },
  "language_info": {
   "codemirror_mode": {
    "name": "ipython",
    "version": 3
   },
   "file_extension": ".py",
   "mimetype": "text/x-python",
   "name": "python",
   "nbconvert_exporter": "python",
   "pygments_lexer": "ipython3",
   "version": "3.10.13"
  }
 },
 "nbformat": 4,
 "nbformat_minor": 5
}
