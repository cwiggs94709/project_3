{
 "cells": [
  {
   "cell_type": "code",
   "execution_count": 1,
   "id": "18798969-7703-43fc-a89e-4919792aaa4a",
   "metadata": {},
   "outputs": [
    {
     "name": "stdout",
     "output_type": "stream",
     "text": [
      "CSV file has been saved to your desktop.\n"
     ]
    }
   ],
   "source": [
    "import pandas as pd\n",
    "import os\n",
    "\n",
    "# Define the path to the original CSV file\n",
    "csv = r'C:\\Users\\chris\\OneDrive\\Documents\\GitHub\\Project-3\\FoodAccessResearchAtlasData2019.csv'\n",
    "\n",
    "# Define the path for the new CSV file on the desktop\n",
    "output_file_path = os.path.join(os.path.expanduser('~'), 'Desktop', '2019FoodAccessTotals.csv')\n",
    "\n",
    "# Specify the columns to keep\n",
    "columns_to_keep = [\n",
    "    \"TractLOWI\",\n",
    "    \"TractKids\",\n",
    "    \"TractSeniors\",\n",
    "    \"TractWhite\",\n",
    "    \"TractBlack\",\n",
    "    \"TractAsian\",\n",
    "    \"TractNHOPI\",\n",
    "    \"TractAIAN\",\n",
    "    \"TractOMultir\",\n",
    "    \"TractHispanic\",\n",
    "    \"TractHUNV\",\n",
    "    \"TractSNAP\"\n",
    "]\n",
    "\n",
    "# Load the data from CSV file\n",
    "data = pd.read_csv(csv, usecols=columns_to_keep)\n",
    "\n",
    "# Save the filtered data to a new CSV file on the desktop\n",
    "data.to_csv(output_file_path, index=False)\n",
    "\n",
    "print(\"CSV file has been saved to your desktop.\")"
   ]
  },
  {
   "cell_type": "code",
   "execution_count": null,
   "id": "886dbcee-577f-45d2-aa52-9e66a6da254c",
   "metadata": {},
   "outputs": [],
   "source": []
  }
 ],
 "metadata": {
  "kernelspec": {
   "display_name": "Python 3 (ipykernel)",
   "language": "python",
   "name": "python3"
  },
  "language_info": {
   "codemirror_mode": {
    "name": "ipython",
    "version": 3
   },
   "file_extension": ".py",
   "mimetype": "text/x-python",
   "name": "python",
   "nbconvert_exporter": "python",
   "pygments_lexer": "ipython3",
   "version": "3.11.5"
  }
 },
 "nbformat": 4,
 "nbformat_minor": 5
}
